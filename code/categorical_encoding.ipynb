{
 "cells": [
  {
   "cell_type": "markdown",
   "id": "53c7e451",
   "metadata": {},
   "source": [
    "## Encoding Categorical Variables"
   ]
  },
  {
   "cell_type": "markdown",
   "id": "705bb1a6",
   "metadata": {},
   "source": [
    "Encoding categorical variable is a crucial step in preparing data for machine learning algorithms. Most algorithms can only handle numerical data, so categorical variables need to be converted into a numerical format before training a model."
   ]
  },
  {
   "cell_type": "markdown",
   "id": "cee6af59",
   "metadata": {},
   "source": [
    "### Qualitative Data (Categorical Data)"
   ]
  },
  {
   "cell_type": "markdown",
   "id": "da5df053",
   "metadata": {},
   "source": [
    "Qualitative data describes categories or qualities rather than numerical values. It answers questions like \"what kind\" or \"which category.\" This data is divided into:\n",
    "\n",
    "* A. Nominal Data (one hot encoding)\n",
    "* B. Ordinal Data (ordinal encoding, label encoding)"
   ]
  },
  {
   "cell_type": "markdown",
   "id": "a09150e6",
   "metadata": {},
   "source": [
    "### Why Encode Categorical Data?"
   ]
  },
  {
   "cell_type": "markdown",
   "id": "e50ae369",
   "metadata": {},
   "source": [
    "Many datasets include categorical variables (features or labels that represent categories, not numerical values) such as:\n",
    "\n",
    "* Gender (Male, Female)\n",
    "* Country (USA, UK, China)\n",
    "* Product Categories (Electronics, Clothing, Furniture)"
   ]
  },
  {
   "cell_type": "markdown",
   "id": "645ff00b",
   "metadata": {},
   "source": [
    "**Types of Encoding**\n",
    "\n",
    "* Label Encoding\n",
    "* One-Hot Encoding\n",
    "* Ordinal Encoding"
   ]
  },
  {
   "cell_type": "markdown",
   "id": "00a5a56c",
   "metadata": {},
   "source": [
    "**1. Label Encoding**\n",
    "\n",
    "* Encode target labels with value between 0 and n_classes-1.\n",
    "* This transformer should be used to encode target values, i.e. y, and not the input X."
   ]
  },
  {
   "cell_type": "code",
   "execution_count": 1,
   "id": "4180613d",
   "metadata": {},
   "outputs": [
    {
     "name": "stdout",
     "output_type": "stream",
     "text": [
      "  Country  Country_Encoded\n",
      "0     USA                2\n",
      "1  Canada                0\n",
      "2  Mexico                1\n",
      "3  Canada                0\n",
      "4     USA                2\n"
     ]
    }
   ],
   "source": [
    "import pandas as pd\n",
    "from sklearn.preprocessing import LabelEncoder\n",
    "\n",
    "data = {'Country': ['USA', 'Canada', 'Mexico', 'Canada', 'USA']}\n",
    "\n",
    "df = pd.DataFrame(data)\n",
    "\n",
    "# Initialize LabelEncoder\n",
    "label_encoder = LabelEncoder()\n",
    "\n",
    "# Apply label encoding\n",
    "df['Country_Encoded'] = label_encoder.fit_transform(df['Country'])\n",
    "\n",
    "print(df)"
   ]
  },
  {
   "cell_type": "markdown",
   "id": "321157d5",
   "metadata": {},
   "source": [
    "**2. Ordinal Encoding**"
   ]
  },
  {
   "cell_type": "markdown",
   "id": "c2afa1df",
   "metadata": {},
   "source": [
    "Ordinal categorical variables have a clear, meaningful order or ranking among their categories, but the intervals between the ranks may not be equal or measurable. In ordinal encoding, each category is assigned a unique integer value based on its order, preserving the ranking information.\n",
    "\n",
    "* Ordinal encoding should only be applied to **independent features (X)** and not the **target (Y)** variable."
   ]
  },
  {
   "cell_type": "code",
   "execution_count": 2,
   "id": "d4d416a1",
   "metadata": {},
   "outputs": [
    {
     "name": "stdout",
     "output_type": "stream",
     "text": [
      "  Satisfaction_Level  Satisfaction_Encoded\n",
      "0   Very Unsatisfied                   0.0\n",
      "1        Unsatisfied                   1.0\n",
      "2            Neutral                   2.0\n",
      "3          Satisfied                   3.0\n",
      "4     Very Satisfied                   4.0\n",
      "5            Neutral                   2.0\n",
      "6     Very Satisfied                   4.0\n",
      "7        Unsatisfied                   1.0\n",
      "8   Very Unsatisfied                   0.0\n"
     ]
    }
   ],
   "source": [
    "from sklearn.preprocessing import OrdinalEncoder\n",
    "\n",
    "data = {'Satisfaction_Level': ['Very Unsatisfied', 'Unsatisfied', 'Neutral', 'Satisfied', 'Very Satisfied',\n",
    "                               'Neutral', 'Very Satisfied', 'Unsatisfied', 'Very Unsatisfied']}\n",
    "\n",
    "df = pd.DataFrame(data)\n",
    "\n",
    "satisfaction_order = ['Very Unsatisfied', 'Unsatisfied', 'Neutral', 'Satisfied', 'Very Satisfied']\n",
    "\n",
    "# Initialize OrdinalEncoder\n",
    "encoder = OrdinalEncoder(categories=[satisfaction_order])\n",
    "\n",
    "# Apply ordinal encoding\n",
    "df['Satisfaction_Encoded'] = encoder.fit_transform(df[['Satisfaction_Level']])\n",
    "\n",
    "print(df)"
   ]
  },
  {
   "cell_type": "markdown",
   "id": "8eef17b2",
   "metadata": {},
   "source": [
    "#### Ordinal vs Label"
   ]
  },
  {
   "cell_type": "code",
   "execution_count": 3,
   "id": "c18ae06d",
   "metadata": {},
   "outputs": [
    {
     "name": "stdout",
     "output_type": "stream",
     "text": [
      "     Education      Target  Education_Encoded  Target_Encoded\n",
      "0  High School    Employed                0.0               0\n",
      "1     Bachelor  Unemployed                1.0               1\n",
      "2       Master    Employed                2.0               0\n",
      "3          PhD  Unemployed                3.0               1\n"
     ]
    }
   ],
   "source": [
    "data = {'Education': ['High School', 'Bachelor', 'Master', 'PhD'],\n",
    "        'Target': ['Employed', 'Unemployed', 'Employed', 'Unemployed']}\n",
    "\n",
    "df = pd.DataFrame(data)\n",
    "\n",
    "# Ordinal encoding for independent feature (X)\n",
    "education_order = ['High School', 'Bachelor', 'Master', 'PhD']\n",
    "ordinal_encoder = OrdinalEncoder(categories=[education_order])\n",
    "df['Education_Encoded'] = ordinal_encoder.fit_transform(df[['Education']])\n",
    "\n",
    "# Label encoding for target (Y)\n",
    "label_encoder = LabelEncoder()\n",
    "df['Target_Encoded'] = label_encoder.fit_transform(df['Target'])\n",
    "\n",
    "print(df)"
   ]
  },
  {
   "cell_type": "markdown",
   "id": "79621a66",
   "metadata": {},
   "source": [
    "**3. One-Hot Encoding**"
   ]
  },
  {
   "cell_type": "markdown",
   "id": "f028a753",
   "metadata": {},
   "source": [
    "The basic idea is that we create a new binary column for each possible category, and for each row, we assign 1 to the column corresponding to the category of that row, and 0 for all other columns."
   ]
  },
  {
   "cell_type": "markdown",
   "id": "915f4a96",
   "metadata": {},
   "source": [
    "**Why use One-Hot Encoding?**\n",
    "\n",
    "* Handling categorical data: Machine learning algorithms typically require numerical data. One-hot encoding allows us to use categorical variables without introducing any false relationships.\n",
    "* Avoid ordinal relationship: One-hot encoding helps prevent models from incorrectly assuming that higher numerical values (from label encoding) represent a higher rank or importance."
   ]
  },
  {
   "cell_type": "markdown",
   "id": "db8ed99d",
   "metadata": {},
   "source": [
    "**Ways to Use One-Hot Encoding?**\n",
    "\n",
    "**1. Using Pandas' get_dummies()**\n",
    "Pandas provides a built-in function to perform one-hot encoding called get_dummies()."
   ]
  },
  {
   "cell_type": "code",
   "execution_count": 16,
   "id": "bb0cd8f3",
   "metadata": {},
   "outputs": [
    {
     "name": "stdout",
     "output_type": "stream",
     "text": [
      "   Color_Green  Color_Red\n",
      "0            0          1\n",
      "1            1          0\n",
      "2            0          0\n",
      "3            0          1\n",
      "4            0          0\n"
     ]
    }
   ],
   "source": [
    "data = {'Color': ['Red', 'Green', 'Blue', 'Red', 'Blue']}\n",
    "df = pd.DataFrame(data)\n",
    "\n",
    "# Apply one-hot encoding using Pandas\n",
    "one_hot_df = pd.get_dummies(df, columns=['Color'], drop_first=True)\n",
    "\n",
    "# Ensure that the values are converted to integers (1/0)\n",
    "one_hot_df = one_hot_df.astype(int)\n",
    "\n",
    "print(one_hot_df)"
   ]
  },
  {
   "cell_type": "code",
   "execution_count": 17,
   "id": "a0503d7c",
   "metadata": {},
   "outputs": [
    {
     "data": {
      "text/plain": [
       "(5, 2)"
      ]
     },
     "execution_count": 17,
     "metadata": {},
     "output_type": "execute_result"
    }
   ],
   "source": [
    "one_hot_df.shape"
   ]
  },
  {
   "cell_type": "markdown",
   "id": "296822d5",
   "metadata": {},
   "source": [
    "**2. Using OneHotEncoder from Scikit-learn**"
   ]
  },
  {
   "cell_type": "code",
   "execution_count": 51,
   "id": "fb1f077e",
   "metadata": {},
   "outputs": [],
   "source": [
    "import numpy as np\n",
    "from sklearn.model_selection import train_test_split\n",
    "from sklearn.preprocessing import OneHotEncoder\n",
    "\n",
    "file_path = 'C:/Users/hp/Desktop/Machine Learning/Datasets/cars.csv'\n",
    "df = pd.read_csv(file_path)"
   ]
  },
  {
   "cell_type": "code",
   "execution_count": 52,
   "id": "b06a8056",
   "metadata": {},
   "outputs": [],
   "source": [
    "X = df.iloc[:, 0:4]\n",
    "y = df.iloc[:, -1] "
   ]
  },
  {
   "cell_type": "code",
   "execution_count": 53,
   "id": "4255a227",
   "metadata": {},
   "outputs": [],
   "source": [
    "X_train, X_test, y_train, y_test = train_test_split(X, y, test_size=0.2, random_state=2)"
   ]
  },
  {
   "cell_type": "code",
   "execution_count": 54,
   "id": "b41f8ed3",
   "metadata": {},
   "outputs": [
    {
     "data": {
      "text/html": [
       "<div>\n",
       "<style scoped>\n",
       "    .dataframe tbody tr th:only-of-type {\n",
       "        vertical-align: middle;\n",
       "    }\n",
       "\n",
       "    .dataframe tbody tr th {\n",
       "        vertical-align: top;\n",
       "    }\n",
       "\n",
       "    .dataframe thead th {\n",
       "        text-align: right;\n",
       "    }\n",
       "</style>\n",
       "<table border=\"1\" class=\"dataframe\">\n",
       "  <thead>\n",
       "    <tr style=\"text-align: right;\">\n",
       "      <th></th>\n",
       "      <th>brand</th>\n",
       "      <th>km_driven</th>\n",
       "      <th>fuel</th>\n",
       "      <th>owner</th>\n",
       "    </tr>\n",
       "  </thead>\n",
       "  <tbody>\n",
       "    <tr>\n",
       "      <th>5571</th>\n",
       "      <td>Hyundai</td>\n",
       "      <td>35000</td>\n",
       "      <td>Diesel</td>\n",
       "      <td>First Owner</td>\n",
       "    </tr>\n",
       "    <tr>\n",
       "      <th>2038</th>\n",
       "      <td>Jeep</td>\n",
       "      <td>60000</td>\n",
       "      <td>Diesel</td>\n",
       "      <td>First Owner</td>\n",
       "    </tr>\n",
       "    <tr>\n",
       "      <th>2957</th>\n",
       "      <td>Hyundai</td>\n",
       "      <td>25000</td>\n",
       "      <td>Petrol</td>\n",
       "      <td>First Owner</td>\n",
       "    </tr>\n",
       "    <tr>\n",
       "      <th>7618</th>\n",
       "      <td>Mahindra</td>\n",
       "      <td>130000</td>\n",
       "      <td>Diesel</td>\n",
       "      <td>Second Owner</td>\n",
       "    </tr>\n",
       "    <tr>\n",
       "      <th>6684</th>\n",
       "      <td>Hyundai</td>\n",
       "      <td>155000</td>\n",
       "      <td>Diesel</td>\n",
       "      <td>First Owner</td>\n",
       "    </tr>\n",
       "  </tbody>\n",
       "</table>\n",
       "</div>"
      ],
      "text/plain": [
       "         brand  km_driven    fuel         owner\n",
       "5571   Hyundai      35000  Diesel   First Owner\n",
       "2038      Jeep      60000  Diesel   First Owner\n",
       "2957   Hyundai      25000  Petrol   First Owner\n",
       "7618  Mahindra     130000  Diesel  Second Owner\n",
       "6684   Hyundai     155000  Diesel   First Owner"
      ]
     },
     "execution_count": 54,
     "metadata": {},
     "output_type": "execute_result"
    }
   ],
   "source": [
    "X_train.head()"
   ]
  },
  {
   "cell_type": "code",
   "execution_count": 55,
   "id": "e9d0338a",
   "metadata": {},
   "outputs": [
    {
     "name": "stdout",
     "output_type": "stream",
     "text": [
      "Training features shape: (6502, 4)\n",
      "Testing features shape: (1626, 4)\n"
     ]
    }
   ],
   "source": [
    "print(\"Training features shape:\", X_train.shape)\n",
    "print(\"Testing features shape:\", X_test.shape)"
   ]
  },
  {
   "cell_type": "code",
   "execution_count": 56,
   "id": "7a29f177",
   "metadata": {},
   "outputs": [],
   "source": [
    "ohe = OneHotEncoder(drop='first', sparse=False, dtype=np.int32)"
   ]
  },
  {
   "cell_type": "code",
   "execution_count": 57,
   "id": "b0ab0f8a",
   "metadata": {},
   "outputs": [
    {
     "name": "stderr",
     "output_type": "stream",
     "text": [
      "C:\\Users\\hp\\AppData\\Local\\Packages\\PythonSoftwareFoundation.Python.3.10_qbz5n2kfra8p0\\LocalCache\\local-packages\\Python310\\site-packages\\sklearn\\preprocessing\\_encoders.py:808: FutureWarning: `sparse` was renamed to `sparse_output` in version 1.2 and will be removed in 1.4. `sparse_output` is ignored unless you leave `sparse` to its default value.\n",
      "  warnings.warn(\n"
     ]
    }
   ],
   "source": [
    "X_train_encoded = ohe.fit_transform(X_train[['fuel', 'owner']])\n",
    "X_test_encoded = ohe.transform(X_test[['fuel', 'owner']])"
   ]
  },
  {
   "cell_type": "code",
   "execution_count": 58,
   "id": "29496758",
   "metadata": {},
   "outputs": [
    {
     "name": "stdout",
     "output_type": "stream",
     "text": [
      "Encoded training features shape: (6502, 7)\n",
      "Encoded testing features shape: (1626, 7)\n"
     ]
    }
   ],
   "source": [
    "print(\"Encoded training features shape:\", X_train_encoded.shape)\n",
    "print(\"Encoded testing features shape:\", X_test_encoded.shape)"
   ]
  },
  {
   "cell_type": "code",
   "execution_count": 59,
   "id": "2e48a04f",
   "metadata": {},
   "outputs": [],
   "source": [
    "X_train_final = np.hstack((X_train[['brand', 'km_driven']].values, X_train_encoded))\n",
    "X_test_final = np.hstack((X_test[['brand', 'km_driven']].values, X_test_encoded))"
   ]
  },
  {
   "cell_type": "code",
   "execution_count": 60,
   "id": "e69cc91f",
   "metadata": {},
   "outputs": [
    {
     "name": "stdout",
     "output_type": "stream",
     "text": [
      "Final training features shape: (6502, 9)\n",
      "Final testing features shape: (1626, 9)\n"
     ]
    }
   ],
   "source": [
    "print(\"Final training features shape:\", X_train_final.shape)\n",
    "print(\"Final testing features shape:\", X_test_final.shape)"
   ]
  },
  {
   "cell_type": "code",
   "execution_count": 61,
   "id": "455bea1d",
   "metadata": {},
   "outputs": [
    {
     "name": "stdout",
     "output_type": "stream",
     "text": [
      "\n",
      "Combined Training Features (first 5 rows):\n",
      "[['Hyundai' 35000 1 0 0 0 0 0 0]\n",
      " ['Jeep' 60000 1 0 0 0 0 0 0]\n",
      " ['Hyundai' 25000 0 0 1 0 0 0 0]\n",
      " ['Mahindra' 130000 1 0 0 0 1 0 0]\n",
      " ['Hyundai' 155000 1 0 0 0 0 0 0]]\n"
     ]
    }
   ],
   "source": [
    "print(\"\\nCombined Training Features (first 5 rows):\")\n",
    "print(X_train_final[:5])"
   ]
  },
  {
   "cell_type": "markdown",
   "id": "32f777b5",
   "metadata": {},
   "source": [
    "**OneHotEncoding with Top Categories**"
   ]
  },
  {
   "cell_type": "code",
   "execution_count": 47,
   "id": "b3699077",
   "metadata": {},
   "outputs": [],
   "source": [
    "counts = df['brand'].value_counts()"
   ]
  },
  {
   "cell_type": "code",
   "execution_count": 48,
   "id": "7a09b193",
   "metadata": {},
   "outputs": [],
   "source": [
    "df['brand'].nunique()\n",
    "threshold = 100"
   ]
  },
  {
   "cell_type": "code",
   "execution_count": 49,
   "id": "aaddafa4",
   "metadata": {},
   "outputs": [],
   "source": [
    "repl = counts[counts <= threshold].index"
   ]
  },
  {
   "cell_type": "code",
   "execution_count": 50,
   "id": "7a59105e",
   "metadata": {},
   "outputs": [
    {
     "data": {
      "text/html": [
       "<div>\n",
       "<style scoped>\n",
       "    .dataframe tbody tr th:only-of-type {\n",
       "        vertical-align: middle;\n",
       "    }\n",
       "\n",
       "    .dataframe tbody tr th {\n",
       "        vertical-align: top;\n",
       "    }\n",
       "\n",
       "    .dataframe thead th {\n",
       "        text-align: right;\n",
       "    }\n",
       "</style>\n",
       "<table border=\"1\" class=\"dataframe\">\n",
       "  <thead>\n",
       "    <tr style=\"text-align: right;\">\n",
       "      <th></th>\n",
       "      <th>BMW</th>\n",
       "      <th>Chevrolet</th>\n",
       "      <th>Ford</th>\n",
       "      <th>Honda</th>\n",
       "      <th>Hyundai</th>\n",
       "      <th>Mahindra</th>\n",
       "      <th>Maruti</th>\n",
       "      <th>Renault</th>\n",
       "      <th>Skoda</th>\n",
       "      <th>Tata</th>\n",
       "      <th>Toyota</th>\n",
       "      <th>Volkswagen</th>\n",
       "      <th>uncommon</th>\n",
       "    </tr>\n",
       "  </thead>\n",
       "  <tbody>\n",
       "    <tr>\n",
       "      <th>5599</th>\n",
       "      <td>False</td>\n",
       "      <td>False</td>\n",
       "      <td>False</td>\n",
       "      <td>False</td>\n",
       "      <td>False</td>\n",
       "      <td>False</td>\n",
       "      <td>False</td>\n",
       "      <td>False</td>\n",
       "      <td>False</td>\n",
       "      <td>False</td>\n",
       "      <td>False</td>\n",
       "      <td>True</td>\n",
       "      <td>False</td>\n",
       "    </tr>\n",
       "    <tr>\n",
       "      <th>6695</th>\n",
       "      <td>False</td>\n",
       "      <td>False</td>\n",
       "      <td>False</td>\n",
       "      <td>False</td>\n",
       "      <td>False</td>\n",
       "      <td>False</td>\n",
       "      <td>True</td>\n",
       "      <td>False</td>\n",
       "      <td>False</td>\n",
       "      <td>False</td>\n",
       "      <td>False</td>\n",
       "      <td>False</td>\n",
       "      <td>False</td>\n",
       "    </tr>\n",
       "    <tr>\n",
       "      <th>222</th>\n",
       "      <td>False</td>\n",
       "      <td>False</td>\n",
       "      <td>False</td>\n",
       "      <td>False</td>\n",
       "      <td>False</td>\n",
       "      <td>False</td>\n",
       "      <td>False</td>\n",
       "      <td>False</td>\n",
       "      <td>False</td>\n",
       "      <td>False</td>\n",
       "      <td>False</td>\n",
       "      <td>False</td>\n",
       "      <td>True</td>\n",
       "    </tr>\n",
       "    <tr>\n",
       "      <th>4829</th>\n",
       "      <td>True</td>\n",
       "      <td>False</td>\n",
       "      <td>False</td>\n",
       "      <td>False</td>\n",
       "      <td>False</td>\n",
       "      <td>False</td>\n",
       "      <td>False</td>\n",
       "      <td>False</td>\n",
       "      <td>False</td>\n",
       "      <td>False</td>\n",
       "      <td>False</td>\n",
       "      <td>False</td>\n",
       "      <td>False</td>\n",
       "    </tr>\n",
       "    <tr>\n",
       "      <th>318</th>\n",
       "      <td>False</td>\n",
       "      <td>False</td>\n",
       "      <td>False</td>\n",
       "      <td>False</td>\n",
       "      <td>False</td>\n",
       "      <td>False</td>\n",
       "      <td>False</td>\n",
       "      <td>False</td>\n",
       "      <td>False</td>\n",
       "      <td>False</td>\n",
       "      <td>True</td>\n",
       "      <td>False</td>\n",
       "      <td>False</td>\n",
       "    </tr>\n",
       "  </tbody>\n",
       "</table>\n",
       "</div>"
      ],
      "text/plain": [
       "        BMW  Chevrolet   Ford  Honda  Hyundai  Mahindra  Maruti  Renault   \n",
       "5599  False      False  False  False    False     False   False    False  \\\n",
       "6695  False      False  False  False    False     False    True    False   \n",
       "222   False      False  False  False    False     False   False    False   \n",
       "4829   True      False  False  False    False     False   False    False   \n",
       "318   False      False  False  False    False     False   False    False   \n",
       "\n",
       "      Skoda   Tata  Toyota  Volkswagen  uncommon  \n",
       "5599  False  False   False        True     False  \n",
       "6695  False  False   False       False     False  \n",
       "222   False  False   False       False      True  \n",
       "4829  False  False   False       False     False  \n",
       "318   False  False    True       False     False  "
      ]
     },
     "execution_count": 50,
     "metadata": {},
     "output_type": "execute_result"
    }
   ],
   "source": [
    "pd.get_dummies(df['brand'].replace(repl, 'uncommon')).sample(5)"
   ]
  }
 ],
 "metadata": {
  "kernelspec": {
   "display_name": "Python 3 (ipykernel)",
   "language": "python",
   "name": "python3"
  },
  "language_info": {
   "codemirror_mode": {
    "name": "ipython",
    "version": 3
   },
   "file_extension": ".py",
   "mimetype": "text/x-python",
   "name": "python",
   "nbconvert_exporter": "python",
   "pygments_lexer": "ipython3",
   "version": "3.10.11"
  }
 },
 "nbformat": 4,
 "nbformat_minor": 5
}
