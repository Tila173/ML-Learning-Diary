{
 "cells": [
  {
   "cell_type": "markdown",
   "id": "187c1209",
   "metadata": {},
   "source": [
    "## What is Data Integration?"
   ]
  },
  {
   "cell_type": "markdown",
   "id": "45c240de",
   "metadata": {},
   "source": [
    "Data Integration is the process of combining data from multiple sources (databases, files, APIs, systems, etc.) into a cohesive, unified dataset for analysis or modeling."
   ]
  },
  {
   "cell_type": "markdown",
   "id": "b6f744d1",
   "metadata": {},
   "source": [
    "**1. Merging Datasets**"
   ]
  },
  {
   "cell_type": "code",
   "execution_count": 2,
   "id": "bc66d352",
   "metadata": {},
   "outputs": [
    {
     "name": "stdout",
     "output_type": "stream",
     "text": [
      "🔗 Inner Join:\n",
      "   transaction_id  customer_id  amount   name\n",
      "0            1001          101     250  Alice\n",
      "1            1002          102     450    Bob\n"
     ]
    }
   ],
   "source": [
    "import pandas as pd\n",
    "\n",
    "# Customers dataset\n",
    "customers = pd.DataFrame({\n",
    "    'customer_id': [101, 102, 103],\n",
    "    'name': ['Alice', 'Bob', 'Charlie']\n",
    "})\n",
    "\n",
    "# Transactions dataset\n",
    "transactions = pd.DataFrame({\n",
    "    'transaction_id': [1001, 1002, 1003],\n",
    "    'customer_id': [101, 102, 104],\n",
    "    'amount': [250, 450, 300]\n",
    "})\n",
    "\n",
    "# Merge on 'customer_id'\n",
    "merged = pd.merge(transactions, customers, on='customer_id', how='inner')  # Only matching rows\n",
    "print(\"🔗 Inner Join:\")\n",
    "print(merged)"
   ]
  },
  {
   "cell_type": "markdown",
   "id": "dc6ff9d2",
   "metadata": {},
   "source": [
    "**2. Concatenating Datasets**"
   ]
  },
  {
   "cell_type": "code",
   "execution_count": 3,
   "id": "70667bea",
   "metadata": {},
   "outputs": [
    {
     "name": "stdout",
     "output_type": "stream",
     "text": [
      "\n",
      "📦 Combined Sales Data:\n",
      "   sale_id  amount\n",
      "0        1     100\n",
      "1        2     200\n",
      "2        3     150\n",
      "3        4     180\n"
     ]
    }
   ],
   "source": [
    "# January sales\n",
    "jan_sales = pd.DataFrame({\n",
    "    'sale_id': [1, 2],\n",
    "    'amount': [100, 200]\n",
    "})\n",
    "\n",
    "# February sales\n",
    "feb_sales = pd.DataFrame({\n",
    "    'sale_id': [3, 4],\n",
    "    'amount': [150, 180]\n",
    "})\n",
    "\n",
    "# Combine vertically\n",
    "all_sales = pd.concat([jan_sales, feb_sales], ignore_index=True)\n",
    "print(\"\\n📦 Combined Sales Data:\")\n",
    "print(all_sales)"
   ]
  },
  {
   "cell_type": "markdown",
   "id": "e7898a23",
   "metadata": {},
   "source": [
    "**3. Deduplicating After Integration**"
   ]
  },
  {
   "cell_type": "code",
   "execution_count": 4,
   "id": "fb2a6100",
   "metadata": {},
   "outputs": [
    {
     "name": "stdout",
     "output_type": "stream",
     "text": [
      "\n",
      "🧹 Deduplicated Data:\n",
      "   id  value\n",
      "0   1    100\n",
      "1   2    200\n",
      "3   3    300\n"
     ]
    }
   ],
   "source": [
    "dup_data = pd.DataFrame({\n",
    "    'id': [1, 2, 2, 3],\n",
    "    'value': [100, 200, 200, 300]\n",
    "})\n",
    "\n",
    "# Remove duplicates\n",
    "cleaned = dup_data.drop_duplicates()\n",
    "print(\"\\n🧹 Deduplicated Data:\")\n",
    "print(cleaned)"
   ]
  },
  {
   "cell_type": "markdown",
   "id": "976fe809",
   "metadata": {},
   "source": [
    "**4. Handling Schema Mismatches**"
   ]
  },
  {
   "cell_type": "code",
   "execution_count": 5,
   "id": "f7e456d4",
   "metadata": {},
   "outputs": [
    {
     "name": "stdout",
     "output_type": "stream",
     "text": [
      "\n",
      "🧾 Combined with Schema Normalization:\n",
      "      name  score\n",
      "0    Alice     85\n",
      "1      Bob     90\n",
      "2  Charlie     95\n",
      "3    David     80\n"
     ]
    }
   ],
   "source": [
    "# Dataset A\n",
    "df1 = pd.DataFrame({\n",
    "    'Name': ['Alice', 'Bob'],\n",
    "    'Score': [85, 90]\n",
    "})\n",
    "\n",
    "# Dataset B with different column names\n",
    "df2 = pd.DataFrame({\n",
    "    'name': ['Charlie', 'David'],\n",
    "    'score': [95, 80]\n",
    "})\n",
    "\n",
    "# Normalize schema\n",
    "df1.columns = df1.columns.str.lower()\n",
    "df2.columns = df2.columns.str.lower()\n",
    "\n",
    "# Combine\n",
    "combined_df = pd.concat([df1, df2], ignore_index=True)\n",
    "print(\"\\n🧾 Combined with Schema Normalization:\")\n",
    "print(combined_df)"
   ]
  },
  {
   "cell_type": "markdown",
   "id": "be1b256e",
   "metadata": {},
   "source": [
    "**5. Data Consolidation**"
   ]
  },
  {
   "cell_type": "code",
   "execution_count": 7,
   "id": "dfa9be0b",
   "metadata": {},
   "outputs": [
    {
     "name": "stdout",
     "output_type": "stream",
     "text": [
      "🔗 Data Integration Result:\n",
      "   transaction_id  customer_id  amount   name\n",
      "0             201          101     250  Alice\n",
      "1             202          102     400    Bob\n",
      "2             203          104     100    NaN\n",
      "\n",
      "📦 Data Consolidation Result:\n",
      "    name  amount\n",
      "0  Alice     250\n",
      "1    Bob     400\n"
     ]
    }
   ],
   "source": [
    "customers = pd.DataFrame({\n",
    "    'customer_id': [101, 102, 103],\n",
    "    'name': ['Alice', 'Bob', 'Charlie']\n",
    "})\n",
    "\n",
    "transactions = pd.DataFrame({\n",
    "    'transaction_id': [201, 202, 203],\n",
    "    'customer_id': [101, 102, 104],  # Note: 104 doesn't exist in customers\n",
    "    'amount': [250, 400, 100]\n",
    "})\n",
    "\n",
    "merged_data = pd.merge(transactions, customers, on='customer_id', how='left')\n",
    "\n",
    "print(\"🔗 Data Integration Result:\")\n",
    "print(merged_data)\n",
    "\n",
    "consolidated = merged_data.groupby('name', dropna=True)['amount'].sum().reset_index()\n",
    "\n",
    "print(\"\\n📦 Data Consolidation Result:\")\n",
    "print(consolidated)"
   ]
  }
 ],
 "metadata": {
  "kernelspec": {
   "display_name": "Python 3 (ipykernel)",
   "language": "python",
   "name": "python3"
  },
  "language_info": {
   "codemirror_mode": {
    "name": "ipython",
    "version": 3
   },
   "file_extension": ".py",
   "mimetype": "text/x-python",
   "name": "python",
   "nbconvert_exporter": "python",
   "pygments_lexer": "ipython3",
   "version": "3.10.11"
  }
 },
 "nbformat": 4,
 "nbformat_minor": 5
}
