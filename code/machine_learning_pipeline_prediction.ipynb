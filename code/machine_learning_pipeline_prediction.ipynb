{
 "cells": [
  {
   "cell_type": "markdown",
   "id": "e6c705b3",
   "metadata": {},
   "source": [
    "* **Step 3: Load the Model and Use It for Predictions**"
   ]
  },
  {
   "cell_type": "code",
   "execution_count": 2,
   "id": "3022858e",
   "metadata": {},
   "outputs": [],
   "source": [
    "import joblib\n",
    "import numpy as np\n",
    "import pandas as pd"
   ]
  },
  {
   "cell_type": "code",
   "execution_count": 3,
   "id": "57e66246",
   "metadata": {},
   "outputs": [],
   "source": [
    "# Load the Saved Pipeline\n",
    "loaded_pipeline = joblib.load('car_purchase_pipeline_1000.pkl')"
   ]
  },
  {
   "cell_type": "code",
   "execution_count": 4,
   "id": "07abe1c6",
   "metadata": {},
   "outputs": [],
   "source": [
    "new_data = pd.DataFrame({\n",
    "    'Age': [40],\n",
    "    'Salary': [85000],\n",
    "    'Owner': ['First Owner'],\n",
    "    'Gender': ['Male']\n",
    "})"
   ]
  },
  {
   "cell_type": "code",
   "execution_count": 5,
   "id": "c52212b1",
   "metadata": {},
   "outputs": [
    {
     "name": "stdout",
     "output_type": "stream",
     "text": [
      "Prediction for the new data: [0]\n"
     ]
    }
   ],
   "source": [
    "# Make a Prediction\n",
    "new_pred = loaded_pipeline.predict(new_data)\n",
    "print(\"Prediction for the new data:\", new_pred)"
   ]
  },
  {
   "cell_type": "code",
   "execution_count": null,
   "id": "ad7e5d53",
   "metadata": {},
   "outputs": [],
   "source": []
  }
 ],
 "metadata": {
  "kernelspec": {
   "display_name": "Python 3 (ipykernel)",
   "language": "python",
   "name": "python3"
  },
  "language_info": {
   "codemirror_mode": {
    "name": "ipython",
    "version": 3
   },
   "file_extension": ".py",
   "mimetype": "text/x-python",
   "name": "python",
   "nbconvert_exporter": "python",
   "pygments_lexer": "ipython3",
   "version": "3.10.11"
  }
 },
 "nbformat": 4,
 "nbformat_minor": 5
}
