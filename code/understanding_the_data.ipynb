{
 "cells": [
  {
   "cell_type": "markdown",
   "id": "e5801353",
   "metadata": {},
   "source": [
    "## Understanding the Dataset"
   ]
  },
  {
   "cell_type": "markdown",
   "id": "dcd6c7d1",
   "metadata": {},
   "source": [
    "**Objective of the Data Analysis**\n",
    "* The objective depends on the type of project (e.g., classification, regression, clustering). This is more of a conceptual question, but once you've identified the objective, you can start working with the data."
   ]
  },
  {
   "cell_type": "code",
   "execution_count": 1,
   "id": "1a9e4555",
   "metadata": {},
   "outputs": [],
   "source": [
    "import pandas as pd"
   ]
  },
  {
   "cell_type": "code",
   "execution_count": 2,
   "id": "73f76efb",
   "metadata": {},
   "outputs": [],
   "source": [
    "df = pd.read_csv('C:/Users/hp/Desktop/Machine Learning/Datasets/Twitter_Data.csv')"
   ]
  },
  {
   "cell_type": "markdown",
   "id": "5cd783b6",
   "metadata": {},
   "source": [
    "### 1. How big is the dataset?"
   ]
  },
  {
   "cell_type": "code",
   "execution_count": 4,
   "id": "254a271e",
   "metadata": {},
   "outputs": [
    {
     "name": "stdout",
     "output_type": "stream",
     "text": [
      "Number of rows: (162980, 2)\n"
     ]
    }
   ],
   "source": [
    "print(f\"Number of rows: {df.shape}\")"
   ]
  },
  {
   "cell_type": "markdown",
   "id": "e1949c7a",
   "metadata": {},
   "source": [
    "### 2. How does the data look like?"
   ]
  },
  {
   "cell_type": "code",
   "execution_count": 5,
   "id": "61b39a26",
   "metadata": {},
   "outputs": [
    {
     "data": {
      "text/html": [
       "<div>\n",
       "<style scoped>\n",
       "    .dataframe tbody tr th:only-of-type {\n",
       "        vertical-align: middle;\n",
       "    }\n",
       "\n",
       "    .dataframe tbody tr th {\n",
       "        vertical-align: top;\n",
       "    }\n",
       "\n",
       "    .dataframe thead th {\n",
       "        text-align: right;\n",
       "    }\n",
       "</style>\n",
       "<table border=\"1\" class=\"dataframe\">\n",
       "  <thead>\n",
       "    <tr style=\"text-align: right;\">\n",
       "      <th></th>\n",
       "      <th>clean_text</th>\n",
       "      <th>category</th>\n",
       "    </tr>\n",
       "  </thead>\n",
       "  <tbody>\n",
       "    <tr>\n",
       "      <th>0</th>\n",
       "      <td>when modi promised “minimum government maximum...</td>\n",
       "      <td>-1.0</td>\n",
       "    </tr>\n",
       "    <tr>\n",
       "      <th>1</th>\n",
       "      <td>talk all the nonsense and continue all the dra...</td>\n",
       "      <td>0.0</td>\n",
       "    </tr>\n",
       "    <tr>\n",
       "      <th>2</th>\n",
       "      <td>what did just say vote for modi  welcome bjp t...</td>\n",
       "      <td>1.0</td>\n",
       "    </tr>\n",
       "    <tr>\n",
       "      <th>3</th>\n",
       "      <td>asking his supporters prefix chowkidar their n...</td>\n",
       "      <td>1.0</td>\n",
       "    </tr>\n",
       "    <tr>\n",
       "      <th>4</th>\n",
       "      <td>answer who among these the most powerful world...</td>\n",
       "      <td>1.0</td>\n",
       "    </tr>\n",
       "  </tbody>\n",
       "</table>\n",
       "</div>"
      ],
      "text/plain": [
       "                                          clean_text  category\n",
       "0  when modi promised “minimum government maximum...      -1.0\n",
       "1  talk all the nonsense and continue all the dra...       0.0\n",
       "2  what did just say vote for modi  welcome bjp t...       1.0\n",
       "3  asking his supporters prefix chowkidar their n...       1.0\n",
       "4  answer who among these the most powerful world...       1.0"
      ]
     },
     "execution_count": 5,
     "metadata": {},
     "output_type": "execute_result"
    }
   ],
   "source": [
    "df.head()"
   ]
  },
  {
   "cell_type": "code",
   "execution_count": 6,
   "id": "13834321",
   "metadata": {},
   "outputs": [
    {
     "data": {
      "text/html": [
       "<div>\n",
       "<style scoped>\n",
       "    .dataframe tbody tr th:only-of-type {\n",
       "        vertical-align: middle;\n",
       "    }\n",
       "\n",
       "    .dataframe tbody tr th {\n",
       "        vertical-align: top;\n",
       "    }\n",
       "\n",
       "    .dataframe thead th {\n",
       "        text-align: right;\n",
       "    }\n",
       "</style>\n",
       "<table border=\"1\" class=\"dataframe\">\n",
       "  <thead>\n",
       "    <tr style=\"text-align: right;\">\n",
       "      <th></th>\n",
       "      <th>clean_text</th>\n",
       "      <th>category</th>\n",
       "    </tr>\n",
       "  </thead>\n",
       "  <tbody>\n",
       "    <tr>\n",
       "      <th>104957</th>\n",
       "      <td>modi slogan sab saath sab vikash 5yrs\\nsab saa...</td>\n",
       "      <td>-1.0</td>\n",
       "    </tr>\n",
       "    <tr>\n",
       "      <th>59134</th>\n",
       "      <td>its high time change the perseption people tha...</td>\n",
       "      <td>-1.0</td>\n",
       "    </tr>\n",
       "    <tr>\n",
       "      <th>45203</th>\n",
       "      <td>are very proud our scientists modi after india...</td>\n",
       "      <td>1.0</td>\n",
       "    </tr>\n",
       "    <tr>\n",
       "      <th>56713</th>\n",
       "      <td>modi bans tobacco consumption any form will ma...</td>\n",
       "      <td>1.0</td>\n",
       "    </tr>\n",
       "    <tr>\n",
       "      <th>23325</th>\n",
       "      <td>east wast modi the best\\n</td>\n",
       "      <td>1.0</td>\n",
       "    </tr>\n",
       "  </tbody>\n",
       "</table>\n",
       "</div>"
      ],
      "text/plain": [
       "                                               clean_text  category\n",
       "104957  modi slogan sab saath sab vikash 5yrs\\nsab saa...      -1.0\n",
       "59134   its high time change the perseption people tha...      -1.0\n",
       "45203   are very proud our scientists modi after india...       1.0\n",
       "56713   modi bans tobacco consumption any form will ma...       1.0\n",
       "23325                           east wast modi the best\\n       1.0"
      ]
     },
     "execution_count": 6,
     "metadata": {},
     "output_type": "execute_result"
    }
   ],
   "source": [
    "df.sample(5)"
   ]
  },
  {
   "cell_type": "markdown",
   "id": "9878dcf4",
   "metadata": {},
   "source": [
    "### 3. What is the data type of columns"
   ]
  },
  {
   "cell_type": "code",
   "execution_count": 7,
   "id": "469819a1",
   "metadata": {},
   "outputs": [
    {
     "name": "stdout",
     "output_type": "stream",
     "text": [
      "<class 'pandas.core.frame.DataFrame'>\n",
      "RangeIndex: 162980 entries, 0 to 162979\n",
      "Data columns (total 2 columns):\n",
      " #   Column      Non-Null Count   Dtype  \n",
      "---  ------      --------------   -----  \n",
      " 0   clean_text  162976 non-null  object \n",
      " 1   category    162973 non-null  float64\n",
      "dtypes: float64(1), object(1)\n",
      "memory usage: 2.5+ MB\n"
     ]
    }
   ],
   "source": [
    "df.info()"
   ]
  },
  {
   "cell_type": "markdown",
   "id": "e82c04e5",
   "metadata": {},
   "source": [
    "### 4. Are there any missing values?"
   ]
  },
  {
   "cell_type": "code",
   "execution_count": 9,
   "id": "c9f002f0",
   "metadata": {},
   "outputs": [
    {
     "data": {
      "text/plain": [
       "clean_text    4\n",
       "category      7\n",
       "dtype: int64"
      ]
     },
     "execution_count": 9,
     "metadata": {},
     "output_type": "execute_result"
    }
   ],
   "source": [
    "df.isnull().sum()"
   ]
  },
  {
   "cell_type": "markdown",
   "id": "8894ec57",
   "metadata": {},
   "source": [
    "### 5. How does the data look mathematically?"
   ]
  },
  {
   "cell_type": "code",
   "execution_count": 11,
   "id": "025ce4d7",
   "metadata": {},
   "outputs": [
    {
     "data": {
      "text/html": [
       "<div>\n",
       "<style scoped>\n",
       "    .dataframe tbody tr th:only-of-type {\n",
       "        vertical-align: middle;\n",
       "    }\n",
       "\n",
       "    .dataframe tbody tr th {\n",
       "        vertical-align: top;\n",
       "    }\n",
       "\n",
       "    .dataframe thead th {\n",
       "        text-align: right;\n",
       "    }\n",
       "</style>\n",
       "<table border=\"1\" class=\"dataframe\">\n",
       "  <thead>\n",
       "    <tr style=\"text-align: right;\">\n",
       "      <th></th>\n",
       "      <th>category</th>\n",
       "    </tr>\n",
       "  </thead>\n",
       "  <tbody>\n",
       "    <tr>\n",
       "      <th>count</th>\n",
       "      <td>162973.000000</td>\n",
       "    </tr>\n",
       "    <tr>\n",
       "      <th>mean</th>\n",
       "      <td>0.225436</td>\n",
       "    </tr>\n",
       "    <tr>\n",
       "      <th>std</th>\n",
       "      <td>0.781279</td>\n",
       "    </tr>\n",
       "    <tr>\n",
       "      <th>min</th>\n",
       "      <td>-1.000000</td>\n",
       "    </tr>\n",
       "    <tr>\n",
       "      <th>25%</th>\n",
       "      <td>0.000000</td>\n",
       "    </tr>\n",
       "    <tr>\n",
       "      <th>50%</th>\n",
       "      <td>0.000000</td>\n",
       "    </tr>\n",
       "    <tr>\n",
       "      <th>75%</th>\n",
       "      <td>1.000000</td>\n",
       "    </tr>\n",
       "    <tr>\n",
       "      <th>max</th>\n",
       "      <td>1.000000</td>\n",
       "    </tr>\n",
       "  </tbody>\n",
       "</table>\n",
       "</div>"
      ],
      "text/plain": [
       "            category\n",
       "count  162973.000000\n",
       "mean        0.225436\n",
       "std         0.781279\n",
       "min        -1.000000\n",
       "25%         0.000000\n",
       "50%         0.000000\n",
       "75%         1.000000\n",
       "max         1.000000"
      ]
     },
     "execution_count": 11,
     "metadata": {},
     "output_type": "execute_result"
    }
   ],
   "source": [
    "df.describe()"
   ]
  },
  {
   "cell_type": "markdown",
   "id": "ac6d55b5",
   "metadata": {},
   "source": [
    "### 6. Are there duplicate values? "
   ]
  },
  {
   "cell_type": "code",
   "execution_count": 12,
   "id": "1f8b6b74",
   "metadata": {},
   "outputs": [
    {
     "data": {
      "text/plain": [
       "1"
      ]
     },
     "execution_count": 12,
     "metadata": {},
     "output_type": "execute_result"
    }
   ],
   "source": [
    "df.duplicated().sum()"
   ]
  },
  {
   "cell_type": "markdown",
   "id": "dda04b24",
   "metadata": {},
   "source": [
    "### 7. How is the correlation between columns?"
   ]
  },
  {
   "cell_type": "code",
   "execution_count": 14,
   "id": "af2a4cf2",
   "metadata": {},
   "outputs": [],
   "source": [
    "# Convert categorical data to one-hot encoding\n",
    "df_encoded = pd.get_dummies(df, columns=['category'], drop_first=True)"
   ]
  },
  {
   "cell_type": "code",
   "execution_count": 16,
   "id": "7689f305",
   "metadata": {},
   "outputs": [],
   "source": [
    "# Drop rows where 'clean_text' is NaN\n",
    "df = df.dropna(subset=['clean_text'])"
   ]
  },
  {
   "cell_type": "code",
   "execution_count": 17,
   "id": "61124232",
   "metadata": {},
   "outputs": [],
   "source": [
    "from sklearn.feature_extraction.text import TfidfVectorizer\n",
    "\n",
    "# Initialize TF-IDF Vectorizer\n",
    "vectorizer = TfidfVectorizer(max_features=1000)\n",
    "\n",
    "# Transform the 'clean_text' column into a numeric matrix\n",
    "tfidf_matrix = vectorizer.fit_transform(df['clean_text'])\n",
    "\n",
    "# Convert the matrix into a DataFrame\n",
    "tfidf_df = pd.DataFrame(tfidf_matrix.toarray(), columns=vectorizer.get_feature_names_out())\n",
    "\n",
    "# Concatenate with the original DataFrame (without 'clean_text')\n",
    "df_final = pd.concat([df.drop(columns=['clean_text']), tfidf_df], axis=1)"
   ]
  },
  {
   "cell_type": "markdown",
   "id": "7bfd925b",
   "metadata": {},
   "source": [
    "# Proceed with Correlation"
   ]
  },
  {
   "cell_type": "code",
   "execution_count": 18,
   "id": "60fc9445",
   "metadata": {},
   "outputs": [],
   "source": [
    "numeric_df = df_final.select_dtypes(include=[float, int])\n",
    "\n",
    "# Calculate correlation\n",
    "correlation_matrix = numeric_df.corr()"
   ]
  },
  {
   "cell_type": "code",
   "execution_count": 19,
   "id": "40fa3007",
   "metadata": {},
   "outputs": [
    {
     "name": "stdout",
     "output_type": "stream",
     "text": [
      "          category       100       1st      2012      2014      2019   \n",
      "category  1.000000 -0.004674  0.001939  0.006868 -0.004343 -0.002363  \\\n",
      "100      -0.004674  1.000000  0.001954 -0.003381  0.012365  0.010684   \n",
      "1st       0.001939  0.001954  1.000000 -0.002001  0.005421  0.010986   \n",
      "2012      0.006868 -0.003381 -0.002001  1.000000  0.010100  0.008303   \n",
      "2014     -0.004343  0.012365  0.005421  0.010100  1.000000  0.065055   \n",
      "...            ...       ...       ...       ...       ...       ...   \n",
      "your     -0.002785 -0.007234 -0.004126 -0.004957 -0.008690 -0.014239   \n",
      "youre    -0.001452 -0.001856 -0.001384 -0.003129 -0.002977 -0.003136   \n",
      "yourself  0.002690 -0.002797 -0.001423 -0.000098 -0.001209  0.000490   \n",
      "youth     0.002492 -0.001552 -0.000566 -0.004067  0.006514 -0.002870   \n",
      "yrs       0.003134  0.002992  0.005416 -0.000175  0.009692 -0.004451   \n",
      "\n",
      "               4th      6000     72000       aap  ...  yesterday       yet   \n",
      "category  0.002198 -0.001437  0.000138  0.001259  ...   0.001432  0.000961  \\\n",
      "100      -0.004035  0.001663 -0.002500 -0.002960  ...  -0.000629 -0.001279   \n",
      "1st       0.002686  0.004450  0.004556 -0.000281  ...   0.001812 -0.000508   \n",
      "2012      0.001214 -0.003343 -0.003499 -0.000167  ...   0.005965 -0.003347   \n",
      "2014     -0.004025 -0.003272 -0.001449  0.003716  ...  -0.003737  0.000798   \n",
      "...            ...       ...       ...       ...  ...        ...       ...   \n",
      "your     -0.007855 -0.003805  0.002467  0.009605  ...  -0.003204 -0.000689   \n",
      "youre    -0.001807 -0.001594 -0.002991  0.000605  ...  -0.002303  0.000033   \n",
      "yourself -0.000399 -0.001531 -0.002359  0.000462  ...  -0.001543 -0.000994   \n",
      "youth    -0.002978 -0.001664  0.000411  0.001567  ...   0.000718 -0.002817   \n",
      "yrs      -0.002457 -0.000393  0.002027 -0.001818  ...  -0.001615  0.000487   \n",
      "\n",
      "              yogi       you     young      your     youre  yourself   \n",
      "category -0.000431 -0.001456 -0.007214 -0.002785 -0.001452  0.002690  \\\n",
      "100       0.001379 -0.007760 -0.003761 -0.007234 -0.001856 -0.002797   \n",
      "1st      -0.002843 -0.003290 -0.001087 -0.004126 -0.001384 -0.001423   \n",
      "2012     -0.004020 -0.010286 -0.003864 -0.004957 -0.003129 -0.000098   \n",
      "2014     -0.005227 -0.011152 -0.003976 -0.008690 -0.002977 -0.001209   \n",
      "...            ...       ...       ...       ...       ...       ...   \n",
      "your     -0.002336  0.196750  0.005160  1.000000  0.017802  0.037727   \n",
      "youre    -0.000603  0.024950  0.002351  0.017802  1.000000  0.012368   \n",
      "yourself -0.001092  0.071091  0.002170  0.037727  0.012368  1.000000   \n",
      "youth     0.009063 -0.003666  0.026096 -0.003945  0.000934  0.000607   \n",
      "yrs      -0.001859 -0.008498  0.000669 -0.006799 -0.001844 -0.001179   \n",
      "\n",
      "             youth       yrs  \n",
      "category  0.002492  0.003134  \n",
      "100      -0.001552  0.002992  \n",
      "1st      -0.000566  0.005416  \n",
      "2012     -0.004067 -0.000175  \n",
      "2014      0.006514  0.009692  \n",
      "...            ...       ...  \n",
      "your     -0.003945 -0.006799  \n",
      "youre     0.000934 -0.001844  \n",
      "yourself  0.000607 -0.001179  \n",
      "youth     1.000000 -0.000460  \n",
      "yrs      -0.000460  1.000000  \n",
      "\n",
      "[1001 rows x 1001 columns]\n"
     ]
    }
   ],
   "source": [
    "print(correlation_matrix)"
   ]
  },
  {
   "cell_type": "code",
   "execution_count": null,
   "id": "f1e77684",
   "metadata": {},
   "outputs": [],
   "source": []
  }
 ],
 "metadata": {
  "kernelspec": {
   "display_name": "Python 3 (ipykernel)",
   "language": "python",
   "name": "python3"
  },
  "language_info": {
   "codemirror_mode": {
    "name": "ipython",
    "version": 3
   },
   "file_extension": ".py",
   "mimetype": "text/x-python",
   "name": "python",
   "nbconvert_exporter": "python",
   "pygments_lexer": "ipython3",
   "version": "3.10.11"
  }
 },
 "nbformat": 4,
 "nbformat_minor": 5
}
