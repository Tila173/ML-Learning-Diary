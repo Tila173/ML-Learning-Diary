{
 "cells": [
  {
   "cell_type": "markdown",
   "id": "c52c5954",
   "metadata": {},
   "source": [
    "## Parsing Date and Time Data"
   ]
  },
  {
   "cell_type": "code",
   "execution_count": 1,
   "id": "272b9955",
   "metadata": {},
   "outputs": [],
   "source": [
    "import pandas as pd\n",
    "import numpy as np\n",
    "\n",
    "# DataFrame with date strings\n",
    "data = {'date_column': ['2023-10-01', '2024-01-15', '2024-05-10']}\n",
    "df = pd.DataFrame(data)"
   ]
  },
  {
   "cell_type": "code",
   "execution_count": 2,
   "id": "d96745c0",
   "metadata": {},
   "outputs": [
    {
     "data": {
      "text/html": [
       "<div>\n",
       "<style scoped>\n",
       "    .dataframe tbody tr th:only-of-type {\n",
       "        vertical-align: middle;\n",
       "    }\n",
       "\n",
       "    .dataframe tbody tr th {\n",
       "        vertical-align: top;\n",
       "    }\n",
       "\n",
       "    .dataframe thead th {\n",
       "        text-align: right;\n",
       "    }\n",
       "</style>\n",
       "<table border=\"1\" class=\"dataframe\">\n",
       "  <thead>\n",
       "    <tr style=\"text-align: right;\">\n",
       "      <th></th>\n",
       "      <th>date_column</th>\n",
       "    </tr>\n",
       "  </thead>\n",
       "  <tbody>\n",
       "    <tr>\n",
       "      <th>0</th>\n",
       "      <td>2023-10-01</td>\n",
       "    </tr>\n",
       "    <tr>\n",
       "      <th>1</th>\n",
       "      <td>2024-01-15</td>\n",
       "    </tr>\n",
       "    <tr>\n",
       "      <th>2</th>\n",
       "      <td>2024-05-10</td>\n",
       "    </tr>\n",
       "  </tbody>\n",
       "</table>\n",
       "</div>"
      ],
      "text/plain": [
       "  date_column\n",
       "0  2023-10-01\n",
       "1  2024-01-15\n",
       "2  2024-05-10"
      ]
     },
     "execution_count": 2,
     "metadata": {},
     "output_type": "execute_result"
    }
   ],
   "source": [
    "df.head()"
   ]
  },
  {
   "cell_type": "code",
   "execution_count": 3,
   "id": "3a36fce4",
   "metadata": {},
   "outputs": [
    {
     "name": "stdout",
     "output_type": "stream",
     "text": [
      "<class 'pandas.core.frame.DataFrame'>\n",
      "RangeIndex: 3 entries, 0 to 2\n",
      "Data columns (total 1 columns):\n",
      " #   Column       Non-Null Count  Dtype \n",
      "---  ------       --------------  ----- \n",
      " 0   date_column  3 non-null      object\n",
      "dtypes: object(1)\n",
      "memory usage: 152.0+ bytes\n"
     ]
    }
   ],
   "source": [
    "df.info()"
   ]
  },
  {
   "cell_type": "code",
   "execution_count": 4,
   "id": "76a775ea",
   "metadata": {},
   "outputs": [],
   "source": [
    "# Convert the date column to datetime objects\n",
    "df['date_column'] = pd.to_datetime(df['date_column'])"
   ]
  },
  {
   "cell_type": "code",
   "execution_count": 5,
   "id": "a1ae09ed",
   "metadata": {},
   "outputs": [
    {
     "name": "stdout",
     "output_type": "stream",
     "text": [
      "<class 'pandas.core.frame.DataFrame'>\n",
      "RangeIndex: 3 entries, 0 to 2\n",
      "Data columns (total 1 columns):\n",
      " #   Column       Non-Null Count  Dtype         \n",
      "---  ------       --------------  -----         \n",
      " 0   date_column  3 non-null      datetime64[ns]\n",
      "dtypes: datetime64[ns](1)\n",
      "memory usage: 152.0 bytes\n"
     ]
    }
   ],
   "source": [
    "df.info()"
   ]
  },
  {
   "cell_type": "markdown",
   "id": "06ec38a1",
   "metadata": {},
   "source": [
    "#### Extracting Date Components"
   ]
  },
  {
   "cell_type": "code",
   "execution_count": 8,
   "id": "2a7c6535",
   "metadata": {},
   "outputs": [],
   "source": [
    "# Extract year, month, day from the datetime column\n",
    "df['year'] = df['date_column'].dt.year\n",
    "df['month'] = df['date_column'].dt.month\n",
    "df['day'] = df['date_column'].dt.day\n",
    "df['date_month_name'] = df['date_column'].dt.month_name()\n",
    "df['date_dow'] = df['date_column'].dt.dayofweek\n",
    "\n",
    "# day of week - name\n",
    "df['date_dow_name'] = df['date_column'].dt.day_name()\n",
    "df['date_is_weekend'] = np.where(df['date_dow_name'].isin(['Sunday', 'Saturday']), 1,0)"
   ]
  },
  {
   "cell_type": "code",
   "execution_count": 9,
   "id": "76a4178d",
   "metadata": {},
   "outputs": [
    {
     "data": {
      "text/html": [
       "<div>\n",
       "<style scoped>\n",
       "    .dataframe tbody tr th:only-of-type {\n",
       "        vertical-align: middle;\n",
       "    }\n",
       "\n",
       "    .dataframe tbody tr th {\n",
       "        vertical-align: top;\n",
       "    }\n",
       "\n",
       "    .dataframe thead th {\n",
       "        text-align: right;\n",
       "    }\n",
       "</style>\n",
       "<table border=\"1\" class=\"dataframe\">\n",
       "  <thead>\n",
       "    <tr style=\"text-align: right;\">\n",
       "      <th></th>\n",
       "      <th>date_column</th>\n",
       "      <th>year</th>\n",
       "      <th>month</th>\n",
       "      <th>day</th>\n",
       "      <th>date_month_name</th>\n",
       "      <th>date_dow</th>\n",
       "      <th>date_dow_name</th>\n",
       "      <th>date_is_weekend</th>\n",
       "    </tr>\n",
       "  </thead>\n",
       "  <tbody>\n",
       "    <tr>\n",
       "      <th>0</th>\n",
       "      <td>2023-10-01</td>\n",
       "      <td>2023</td>\n",
       "      <td>10</td>\n",
       "      <td>1</td>\n",
       "      <td>October</td>\n",
       "      <td>6</td>\n",
       "      <td>Sunday</td>\n",
       "      <td>1</td>\n",
       "    </tr>\n",
       "    <tr>\n",
       "      <th>1</th>\n",
       "      <td>2024-01-15</td>\n",
       "      <td>2024</td>\n",
       "      <td>1</td>\n",
       "      <td>15</td>\n",
       "      <td>January</td>\n",
       "      <td>0</td>\n",
       "      <td>Monday</td>\n",
       "      <td>0</td>\n",
       "    </tr>\n",
       "    <tr>\n",
       "      <th>2</th>\n",
       "      <td>2024-05-10</td>\n",
       "      <td>2024</td>\n",
       "      <td>5</td>\n",
       "      <td>10</td>\n",
       "      <td>May</td>\n",
       "      <td>4</td>\n",
       "      <td>Friday</td>\n",
       "      <td>0</td>\n",
       "    </tr>\n",
       "  </tbody>\n",
       "</table>\n",
       "</div>"
      ],
      "text/plain": [
       "  date_column  year  month  day date_month_name  date_dow date_dow_name   \n",
       "0  2023-10-01  2023     10    1         October         6        Sunday  \\\n",
       "1  2024-01-15  2024      1   15         January         0        Monday   \n",
       "2  2024-05-10  2024      5   10             May         4        Friday   \n",
       "\n",
       "   date_is_weekend  \n",
       "0                1  \n",
       "1                0  \n",
       "2                0  "
      ]
     },
     "execution_count": 9,
     "metadata": {},
     "output_type": "execute_result"
    }
   ],
   "source": [
    "df.head()"
   ]
  },
  {
   "cell_type": "code",
   "execution_count": 11,
   "id": "fbddb5e4",
   "metadata": {},
   "outputs": [],
   "source": [
    "df['date_week'] = df['date_column'].dt.isocalendar().week"
   ]
  },
  {
   "cell_type": "code",
   "execution_count": 12,
   "id": "196545ef",
   "metadata": {},
   "outputs": [],
   "source": [
    "df['quarter'] = df['date_column'].dt.quarter"
   ]
  },
  {
   "cell_type": "code",
   "execution_count": 13,
   "id": "82efbff2",
   "metadata": {},
   "outputs": [],
   "source": [
    "df['semester'] = np.where(df['quarter'].isin([1,2]), 1, 2)"
   ]
  },
  {
   "cell_type": "markdown",
   "id": "f76f1349",
   "metadata": {},
   "source": [
    "#### Handling Time Data"
   ]
  },
  {
   "cell_type": "code",
   "execution_count": 14,
   "id": "5029534c",
   "metadata": {},
   "outputs": [],
   "source": [
    "data = {'datetime_column': ['2023-10-01 14:30:00', '2024-01-15 09:45:15', '2024-05-10 18:20:45']}\n",
    "df = pd.DataFrame(data)"
   ]
  },
  {
   "cell_type": "code",
   "execution_count": 15,
   "id": "026c1dc9",
   "metadata": {},
   "outputs": [
    {
     "data": {
      "text/html": [
       "<div>\n",
       "<style scoped>\n",
       "    .dataframe tbody tr th:only-of-type {\n",
       "        vertical-align: middle;\n",
       "    }\n",
       "\n",
       "    .dataframe tbody tr th {\n",
       "        vertical-align: top;\n",
       "    }\n",
       "\n",
       "    .dataframe thead th {\n",
       "        text-align: right;\n",
       "    }\n",
       "</style>\n",
       "<table border=\"1\" class=\"dataframe\">\n",
       "  <thead>\n",
       "    <tr style=\"text-align: right;\">\n",
       "      <th></th>\n",
       "      <th>datetime_column</th>\n",
       "    </tr>\n",
       "  </thead>\n",
       "  <tbody>\n",
       "    <tr>\n",
       "      <th>0</th>\n",
       "      <td>2023-10-01 14:30:00</td>\n",
       "    </tr>\n",
       "    <tr>\n",
       "      <th>1</th>\n",
       "      <td>2024-01-15 09:45:15</td>\n",
       "    </tr>\n",
       "    <tr>\n",
       "      <th>2</th>\n",
       "      <td>2024-05-10 18:20:45</td>\n",
       "    </tr>\n",
       "  </tbody>\n",
       "</table>\n",
       "</div>"
      ],
      "text/plain": [
       "       datetime_column\n",
       "0  2023-10-01 14:30:00\n",
       "1  2024-01-15 09:45:15\n",
       "2  2024-05-10 18:20:45"
      ]
     },
     "execution_count": 15,
     "metadata": {},
     "output_type": "execute_result"
    }
   ],
   "source": [
    "df.head()"
   ]
  },
  {
   "cell_type": "code",
   "execution_count": 16,
   "id": "33dccc4d",
   "metadata": {},
   "outputs": [],
   "source": [
    "df['datetime_column'] = pd.to_datetime(df['datetime_column'])"
   ]
  },
  {
   "cell_type": "code",
   "execution_count": 17,
   "id": "9f180f60",
   "metadata": {},
   "outputs": [
    {
     "name": "stdout",
     "output_type": "stream",
     "text": [
      "<class 'pandas.core.frame.DataFrame'>\n",
      "RangeIndex: 3 entries, 0 to 2\n",
      "Data columns (total 1 columns):\n",
      " #   Column           Non-Null Count  Dtype         \n",
      "---  ------           --------------  -----         \n",
      " 0   datetime_column  3 non-null      datetime64[ns]\n",
      "dtypes: datetime64[ns](1)\n",
      "memory usage: 152.0 bytes\n"
     ]
    }
   ],
   "source": [
    "df.info()"
   ]
  },
  {
   "cell_type": "markdown",
   "id": "bc0e30b2",
   "metadata": {},
   "source": [
    "**Extract time components**"
   ]
  },
  {
   "cell_type": "code",
   "execution_count": 18,
   "id": "bfe8b43c",
   "metadata": {},
   "outputs": [],
   "source": [
    "df['hour'] = df['datetime_column'].dt.hour\n",
    "df['minute'] = df['datetime_column'].dt.minute\n",
    "df['second'] = df['datetime_column'].dt.second"
   ]
  },
  {
   "cell_type": "markdown",
   "id": "58591770",
   "metadata": {},
   "source": [
    "df.head()"
   ]
  },
  {
   "cell_type": "code",
   "execution_count": 25,
   "id": "3f639add",
   "metadata": {},
   "outputs": [],
   "source": [
    "df['time'] = df['datetime_column'].dt.time"
   ]
  },
  {
   "cell_type": "code",
   "execution_count": 26,
   "id": "2861b461",
   "metadata": {},
   "outputs": [
    {
     "data": {
      "text/html": [
       "<div>\n",
       "<style scoped>\n",
       "    .dataframe tbody tr th:only-of-type {\n",
       "        vertical-align: middle;\n",
       "    }\n",
       "\n",
       "    .dataframe tbody tr th {\n",
       "        vertical-align: top;\n",
       "    }\n",
       "\n",
       "    .dataframe thead th {\n",
       "        text-align: right;\n",
       "    }\n",
       "</style>\n",
       "<table border=\"1\" class=\"dataframe\">\n",
       "  <thead>\n",
       "    <tr style=\"text-align: right;\">\n",
       "      <th></th>\n",
       "      <th>datetime_column</th>\n",
       "      <th>hour</th>\n",
       "      <th>minute</th>\n",
       "      <th>second</th>\n",
       "      <th>time</th>\n",
       "    </tr>\n",
       "  </thead>\n",
       "  <tbody>\n",
       "    <tr>\n",
       "      <th>0</th>\n",
       "      <td>2023-10-01 14:30:00</td>\n",
       "      <td>14</td>\n",
       "      <td>30</td>\n",
       "      <td>0</td>\n",
       "      <td>14:30:00</td>\n",
       "    </tr>\n",
       "    <tr>\n",
       "      <th>1</th>\n",
       "      <td>2024-01-15 09:45:15</td>\n",
       "      <td>9</td>\n",
       "      <td>45</td>\n",
       "      <td>15</td>\n",
       "      <td>09:45:15</td>\n",
       "    </tr>\n",
       "    <tr>\n",
       "      <th>2</th>\n",
       "      <td>2024-05-10 18:20:45</td>\n",
       "      <td>18</td>\n",
       "      <td>20</td>\n",
       "      <td>45</td>\n",
       "      <td>18:20:45</td>\n",
       "    </tr>\n",
       "  </tbody>\n",
       "</table>\n",
       "</div>"
      ],
      "text/plain": [
       "      datetime_column  hour  minute  second      time\n",
       "0 2023-10-01 14:30:00    14      30       0  14:30:00\n",
       "1 2024-01-15 09:45:15     9      45      15  09:45:15\n",
       "2 2024-05-10 18:20:45    18      20      45  18:20:45"
      ]
     },
     "execution_count": 26,
     "metadata": {},
     "output_type": "execute_result"
    }
   ],
   "source": [
    "df.head()"
   ]
  },
  {
   "cell_type": "markdown",
   "id": "1b3593ba",
   "metadata": {},
   "source": [
    "#### Date Arithmetic"
   ]
  },
  {
   "cell_type": "code",
   "execution_count": 27,
   "id": "56e0fe44",
   "metadata": {},
   "outputs": [],
   "source": [
    "from pandas.tseries.offsets import DateOffset"
   ]
  },
  {
   "cell_type": "code",
   "execution_count": 30,
   "id": "6c32082b",
   "metadata": {},
   "outputs": [],
   "source": [
    "# Add 7 days to each date\n",
    "df['plus_7_days'] = df['datetime_column'] + DateOffset(days=7)\n",
    "\n",
    "# Subtract 2 hours from each time\n",
    "df['minus_2_hours'] = df['datetime_column'] - DateOffset(hours=2)"
   ]
  },
  {
   "cell_type": "code",
   "execution_count": 31,
   "id": "d1d86e93",
   "metadata": {},
   "outputs": [
    {
     "data": {
      "text/html": [
       "<div>\n",
       "<style scoped>\n",
       "    .dataframe tbody tr th:only-of-type {\n",
       "        vertical-align: middle;\n",
       "    }\n",
       "\n",
       "    .dataframe tbody tr th {\n",
       "        vertical-align: top;\n",
       "    }\n",
       "\n",
       "    .dataframe thead th {\n",
       "        text-align: right;\n",
       "    }\n",
       "</style>\n",
       "<table border=\"1\" class=\"dataframe\">\n",
       "  <thead>\n",
       "    <tr style=\"text-align: right;\">\n",
       "      <th></th>\n",
       "      <th>datetime_column</th>\n",
       "      <th>hour</th>\n",
       "      <th>minute</th>\n",
       "      <th>second</th>\n",
       "      <th>time</th>\n",
       "      <th>plus_7_days</th>\n",
       "      <th>minus_2_hours</th>\n",
       "    </tr>\n",
       "  </thead>\n",
       "  <tbody>\n",
       "    <tr>\n",
       "      <th>0</th>\n",
       "      <td>2023-10-01 14:30:00</td>\n",
       "      <td>14</td>\n",
       "      <td>30</td>\n",
       "      <td>0</td>\n",
       "      <td>14:30:00</td>\n",
       "      <td>2023-10-08 14:30:00</td>\n",
       "      <td>2023-10-01 12:30:00</td>\n",
       "    </tr>\n",
       "    <tr>\n",
       "      <th>1</th>\n",
       "      <td>2024-01-15 09:45:15</td>\n",
       "      <td>9</td>\n",
       "      <td>45</td>\n",
       "      <td>15</td>\n",
       "      <td>09:45:15</td>\n",
       "      <td>2024-01-22 09:45:15</td>\n",
       "      <td>2024-01-15 07:45:15</td>\n",
       "    </tr>\n",
       "    <tr>\n",
       "      <th>2</th>\n",
       "      <td>2024-05-10 18:20:45</td>\n",
       "      <td>18</td>\n",
       "      <td>20</td>\n",
       "      <td>45</td>\n",
       "      <td>18:20:45</td>\n",
       "      <td>2024-05-17 18:20:45</td>\n",
       "      <td>2024-05-10 16:20:45</td>\n",
       "    </tr>\n",
       "  </tbody>\n",
       "</table>\n",
       "</div>"
      ],
      "text/plain": [
       "      datetime_column  hour  minute  second      time         plus_7_days   \n",
       "0 2023-10-01 14:30:00    14      30       0  14:30:00 2023-10-08 14:30:00  \\\n",
       "1 2024-01-15 09:45:15     9      45      15  09:45:15 2024-01-22 09:45:15   \n",
       "2 2024-05-10 18:20:45    18      20      45  18:20:45 2024-05-17 18:20:45   \n",
       "\n",
       "        minus_2_hours  \n",
       "0 2023-10-01 12:30:00  \n",
       "1 2024-01-15 07:45:15  \n",
       "2 2024-05-10 16:20:45  "
      ]
     },
     "execution_count": 31,
     "metadata": {},
     "output_type": "execute_result"
    }
   ],
   "source": [
    "df.head()"
   ]
  },
  {
   "cell_type": "markdown",
   "id": "b5cd163e",
   "metadata": {},
   "source": [
    "**Calculating Date Differences**"
   ]
  },
  {
   "cell_type": "code",
   "execution_count": 32,
   "id": "ee004cbe",
   "metadata": {},
   "outputs": [],
   "source": [
    "# Difference between two dates\n",
    "df['date_diff'] = df['datetime_column'] - pd.to_datetime('2023-10-01')"
   ]
  },
  {
   "cell_type": "code",
   "execution_count": 33,
   "id": "274ddfdb",
   "metadata": {},
   "outputs": [
    {
     "data": {
      "text/html": [
       "<div>\n",
       "<style scoped>\n",
       "    .dataframe tbody tr th:only-of-type {\n",
       "        vertical-align: middle;\n",
       "    }\n",
       "\n",
       "    .dataframe tbody tr th {\n",
       "        vertical-align: top;\n",
       "    }\n",
       "\n",
       "    .dataframe thead th {\n",
       "        text-align: right;\n",
       "    }\n",
       "</style>\n",
       "<table border=\"1\" class=\"dataframe\">\n",
       "  <thead>\n",
       "    <tr style=\"text-align: right;\">\n",
       "      <th></th>\n",
       "      <th>datetime_column</th>\n",
       "      <th>hour</th>\n",
       "      <th>minute</th>\n",
       "      <th>second</th>\n",
       "      <th>time</th>\n",
       "      <th>plus_7_days</th>\n",
       "      <th>minus_2_hours</th>\n",
       "      <th>date_diff</th>\n",
       "    </tr>\n",
       "  </thead>\n",
       "  <tbody>\n",
       "    <tr>\n",
       "      <th>0</th>\n",
       "      <td>2023-10-01 14:30:00</td>\n",
       "      <td>14</td>\n",
       "      <td>30</td>\n",
       "      <td>0</td>\n",
       "      <td>14:30:00</td>\n",
       "      <td>2023-10-08 14:30:00</td>\n",
       "      <td>2023-10-01 12:30:00</td>\n",
       "      <td>0 days 14:30:00</td>\n",
       "    </tr>\n",
       "    <tr>\n",
       "      <th>1</th>\n",
       "      <td>2024-01-15 09:45:15</td>\n",
       "      <td>9</td>\n",
       "      <td>45</td>\n",
       "      <td>15</td>\n",
       "      <td>09:45:15</td>\n",
       "      <td>2024-01-22 09:45:15</td>\n",
       "      <td>2024-01-15 07:45:15</td>\n",
       "      <td>106 days 09:45:15</td>\n",
       "    </tr>\n",
       "    <tr>\n",
       "      <th>2</th>\n",
       "      <td>2024-05-10 18:20:45</td>\n",
       "      <td>18</td>\n",
       "      <td>20</td>\n",
       "      <td>45</td>\n",
       "      <td>18:20:45</td>\n",
       "      <td>2024-05-17 18:20:45</td>\n",
       "      <td>2024-05-10 16:20:45</td>\n",
       "      <td>222 days 18:20:45</td>\n",
       "    </tr>\n",
       "  </tbody>\n",
       "</table>\n",
       "</div>"
      ],
      "text/plain": [
       "      datetime_column  hour  minute  second      time         plus_7_days   \n",
       "0 2023-10-01 14:30:00    14      30       0  14:30:00 2023-10-08 14:30:00  \\\n",
       "1 2024-01-15 09:45:15     9      45      15  09:45:15 2024-01-22 09:45:15   \n",
       "2 2024-05-10 18:20:45    18      20      45  18:20:45 2024-05-17 18:20:45   \n",
       "\n",
       "        minus_2_hours         date_diff  \n",
       "0 2023-10-01 12:30:00   0 days 14:30:00  \n",
       "1 2024-01-15 07:45:15 106 days 09:45:15  \n",
       "2 2024-05-10 16:20:45 222 days 18:20:45  "
      ]
     },
     "execution_count": 33,
     "metadata": {},
     "output_type": "execute_result"
    }
   ],
   "source": [
    "df.head()"
   ]
  },
  {
   "cell_type": "markdown",
   "id": "ddc496f2",
   "metadata": {},
   "source": [
    "**Resampling and Grouping by Time**"
   ]
  },
  {
   "cell_type": "code",
   "execution_count": 34,
   "id": "c85b4a93",
   "metadata": {},
   "outputs": [],
   "source": [
    "# Create a time series DataFrame\n",
    "time_series_data = pd.date_range(start='2023-01-01', periods=100, freq='D')\n",
    "df_time_series = pd.DataFrame({'date': time_series_data, 'value': range(100)})\n",
    "\n",
    "# Resample to weekly data\n",
    "df_weekly = df_time_series.resample('W', on='date').sum()"
   ]
  },
  {
   "cell_type": "code",
   "execution_count": 35,
   "id": "3fe86956",
   "metadata": {},
   "outputs": [
    {
     "data": {
      "text/html": [
       "<div>\n",
       "<style scoped>\n",
       "    .dataframe tbody tr th:only-of-type {\n",
       "        vertical-align: middle;\n",
       "    }\n",
       "\n",
       "    .dataframe tbody tr th {\n",
       "        vertical-align: top;\n",
       "    }\n",
       "\n",
       "    .dataframe thead th {\n",
       "        text-align: right;\n",
       "    }\n",
       "</style>\n",
       "<table border=\"1\" class=\"dataframe\">\n",
       "  <thead>\n",
       "    <tr style=\"text-align: right;\">\n",
       "      <th></th>\n",
       "      <th>value</th>\n",
       "    </tr>\n",
       "    <tr>\n",
       "      <th>date</th>\n",
       "      <th></th>\n",
       "    </tr>\n",
       "  </thead>\n",
       "  <tbody>\n",
       "    <tr>\n",
       "      <th>2023-01-01</th>\n",
       "      <td>0</td>\n",
       "    </tr>\n",
       "    <tr>\n",
       "      <th>2023-01-08</th>\n",
       "      <td>28</td>\n",
       "    </tr>\n",
       "    <tr>\n",
       "      <th>2023-01-15</th>\n",
       "      <td>77</td>\n",
       "    </tr>\n",
       "    <tr>\n",
       "      <th>2023-01-22</th>\n",
       "      <td>126</td>\n",
       "    </tr>\n",
       "    <tr>\n",
       "      <th>2023-01-29</th>\n",
       "      <td>175</td>\n",
       "    </tr>\n",
       "  </tbody>\n",
       "</table>\n",
       "</div>"
      ],
      "text/plain": [
       "            value\n",
       "date             \n",
       "2023-01-01      0\n",
       "2023-01-08     28\n",
       "2023-01-15     77\n",
       "2023-01-22    126\n",
       "2023-01-29    175"
      ]
     },
     "execution_count": 35,
     "metadata": {},
     "output_type": "execute_result"
    }
   ],
   "source": [
    "df_weekly.head()"
   ]
  },
  {
   "cell_type": "markdown",
   "id": "f42e05de",
   "metadata": {},
   "source": [
    "**Handling Time Zones**"
   ]
  },
  {
   "cell_type": "code",
   "execution_count": 38,
   "id": "2afd2c27",
   "metadata": {},
   "outputs": [],
   "source": [
    "# Localize the datetime column to UTC\n",
    "df['datetime_column_utc'] = df['datetime_column'].dt.tz_localize('UTC')\n",
    "\n",
    "# Convert to a different timezone\n",
    "df['datetime_column_pst'] = df['datetime_column_utc'].dt.tz_convert('US/Pacific')"
   ]
  },
  {
   "cell_type": "code",
   "execution_count": 39,
   "id": "3bb35661",
   "metadata": {},
   "outputs": [
    {
     "data": {
      "text/html": [
       "<div>\n",
       "<style scoped>\n",
       "    .dataframe tbody tr th:only-of-type {\n",
       "        vertical-align: middle;\n",
       "    }\n",
       "\n",
       "    .dataframe tbody tr th {\n",
       "        vertical-align: top;\n",
       "    }\n",
       "\n",
       "    .dataframe thead th {\n",
       "        text-align: right;\n",
       "    }\n",
       "</style>\n",
       "<table border=\"1\" class=\"dataframe\">\n",
       "  <thead>\n",
       "    <tr style=\"text-align: right;\">\n",
       "      <th></th>\n",
       "      <th>datetime_column</th>\n",
       "      <th>hour</th>\n",
       "      <th>minute</th>\n",
       "      <th>second</th>\n",
       "      <th>time</th>\n",
       "      <th>plus_7_days</th>\n",
       "      <th>minus_2_hours</th>\n",
       "      <th>date_diff</th>\n",
       "      <th>datetime_column_utc</th>\n",
       "      <th>datetime_column_pst</th>\n",
       "    </tr>\n",
       "  </thead>\n",
       "  <tbody>\n",
       "    <tr>\n",
       "      <th>0</th>\n",
       "      <td>2023-10-01 14:30:00</td>\n",
       "      <td>14</td>\n",
       "      <td>30</td>\n",
       "      <td>0</td>\n",
       "      <td>14:30:00</td>\n",
       "      <td>2023-10-08 14:30:00</td>\n",
       "      <td>2023-10-01 12:30:00</td>\n",
       "      <td>0 days 14:30:00</td>\n",
       "      <td>2023-10-01 14:30:00+00:00</td>\n",
       "      <td>2023-10-01 07:30:00-07:00</td>\n",
       "    </tr>\n",
       "    <tr>\n",
       "      <th>1</th>\n",
       "      <td>2024-01-15 09:45:15</td>\n",
       "      <td>9</td>\n",
       "      <td>45</td>\n",
       "      <td>15</td>\n",
       "      <td>09:45:15</td>\n",
       "      <td>2024-01-22 09:45:15</td>\n",
       "      <td>2024-01-15 07:45:15</td>\n",
       "      <td>106 days 09:45:15</td>\n",
       "      <td>2024-01-15 09:45:15+00:00</td>\n",
       "      <td>2024-01-15 01:45:15-08:00</td>\n",
       "    </tr>\n",
       "    <tr>\n",
       "      <th>2</th>\n",
       "      <td>2024-05-10 18:20:45</td>\n",
       "      <td>18</td>\n",
       "      <td>20</td>\n",
       "      <td>45</td>\n",
       "      <td>18:20:45</td>\n",
       "      <td>2024-05-17 18:20:45</td>\n",
       "      <td>2024-05-10 16:20:45</td>\n",
       "      <td>222 days 18:20:45</td>\n",
       "      <td>2024-05-10 18:20:45+00:00</td>\n",
       "      <td>2024-05-10 11:20:45-07:00</td>\n",
       "    </tr>\n",
       "  </tbody>\n",
       "</table>\n",
       "</div>"
      ],
      "text/plain": [
       "      datetime_column  hour  minute  second      time         plus_7_days   \n",
       "0 2023-10-01 14:30:00    14      30       0  14:30:00 2023-10-08 14:30:00  \\\n",
       "1 2024-01-15 09:45:15     9      45      15  09:45:15 2024-01-22 09:45:15   \n",
       "2 2024-05-10 18:20:45    18      20      45  18:20:45 2024-05-17 18:20:45   \n",
       "\n",
       "        minus_2_hours         date_diff       datetime_column_utc   \n",
       "0 2023-10-01 12:30:00   0 days 14:30:00 2023-10-01 14:30:00+00:00  \\\n",
       "1 2024-01-15 07:45:15 106 days 09:45:15 2024-01-15 09:45:15+00:00   \n",
       "2 2024-05-10 16:20:45 222 days 18:20:45 2024-05-10 18:20:45+00:00   \n",
       "\n",
       "        datetime_column_pst  \n",
       "0 2023-10-01 07:30:00-07:00  \n",
       "1 2024-01-15 01:45:15-08:00  \n",
       "2 2024-05-10 11:20:45-07:00  "
      ]
     },
     "execution_count": 39,
     "metadata": {},
     "output_type": "execute_result"
    }
   ],
   "source": [
    "df.head()"
   ]
  },
  {
   "cell_type": "code",
   "execution_count": null,
   "id": "1c329454",
   "metadata": {},
   "outputs": [],
   "source": []
  }
 ],
 "metadata": {
  "kernelspec": {
   "display_name": "Python 3 (ipykernel)",
   "language": "python",
   "name": "python3"
  },
  "language_info": {
   "codemirror_mode": {
    "name": "ipython",
    "version": 3
   },
   "file_extension": ".py",
   "mimetype": "text/x-python",
   "name": "python",
   "nbconvert_exporter": "python",
   "pygments_lexer": "ipython3",
   "version": "3.10.11"
  }
 },
 "nbformat": 4,
 "nbformat_minor": 5
}
