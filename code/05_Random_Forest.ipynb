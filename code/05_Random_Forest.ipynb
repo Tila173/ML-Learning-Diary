{
 "cells": [
  {
   "cell_type": "markdown",
   "id": "248cb54e",
   "metadata": {},
   "source": [
    "## Ensemble Methods:\n",
    "\n",
    "- Ensemble methods are a type of machine learning technique where multiple models (also known as \"learners\") are combined to solve a problem, often with the aim of improving performance compared to using a single model. The idea behind ensemble methods is that by combining different models, their weaknesses can cancel out, leading to better generalization and performance.\n",
    "\n",
    "**1. Bagging (Bootstrap Aggregating):**\n",
    "\n",
    "**Idea:** Train multiple models independently on different random subsets of the data and then combine their predictions.\n",
    "\n",
    "**Goal:** Reduce variance and prevent overfitting.\n",
    "\n",
    "**Common Algorithms:**\n",
    "\n",
    "- Random Forest: A type of decision tree ensemble method where each tree is trained on a random subset of the data and features. Predictions are made by averaging the outputs of all trees (for regression) or by majority voting (for classification).\n",
    "\n",
    "- Bagging (Base Model): Involves training multiple instances of the same algorithm (like decision trees) on different random samples of the training data, then combining their predictions.\n",
    "\n",
    "**Example:**\n",
    "\n",
    "- Random Forest uses a collection of decision trees trained using different subsets of data and features, which reduces the variance of individual decision trees.\n",
    "\n",
    "**2. Boosting:**\n",
    "\n",
    "**Idea:** Sequentially train models, with each new model focusing on the mistakes made by the previous models. The aim is to improve model accuracy by correcting errors iteratively.\n",
    "\n",
    "**Goal:** Reduce bias and improve accuracy.\n",
    "\n",
    "**Common Algorithms:**\n",
    "\n",
    "- AdaBoost (Adaptive Boosting): Focuses on the incorrectly classified instances from previous models by assigning them higher weights so that the next model tries to correct those mistakes.\n",
    "\n",
    "- Gradient Boosting: Trains new models that predict the residuals (errors) of the combined prediction from previous models. This makes the ensemble model improve step-by-step.\n",
    "\n",
    "- XGBoost (Extreme Gradient Boosting): An optimized implementation of gradient boosting with regularization, which improves performance and reduces overfitting.\n",
    "\n",
    "- LightGBM: Another efficient and fast implementation of gradient boosting that works well with large datasets.\n",
    "\n",
    "**Example:**\n",
    "\n",
    "- In Gradient Boosting, the first model fits the residuals of the data, the second model tries to correct the errors of the first one, and so on.\n",
    "\n",
    "**3. Stacking (Stacked Generalization):**\n",
    "\n",
    "**Idea:** Combine multiple different models to make predictions, where the predictions of the individual models are used as features for a new model (the \"meta-model\").\n",
    "\n",
    "**Goal:** Leverage the strengths of different types of models to improve performance.\n",
    "\n",
    "**Common Approach:** Use a set of base models (e.g., decision trees, logistic regression, SVMs) and train a meta-model (e.g., a logistic regression or decision tree) on the outputs of these base models to combine their predictions.\n",
    "\n",
    "**Example:**\n",
    "\n",
    "- In stacking, you might use multiple classifiers (like decision trees, logistic regression, and support vector machines) to predict a class. Then, a meta-model learns from the predictions of these base classifiers to make the final prediction."
   ]
  },
  {
   "cell_type": "markdown",
   "id": "b48645a4",
   "metadata": {},
   "source": [
    "### Advantages of Ensemble Methods:\n",
    "\n",
    "**Improved Accuracy:** By combining multiple models, ensemble methods often achieve better performance than individual models.\n",
    "\n",
    "**Better Generalization:** They can generalize better by reducing overfitting (in the case of bagging) or underfitting (in the case of boosting).\n",
    "\n",
    "**Flexibility:** You can combine different types of models (e.g., decision trees, SVMs, neural networks) in stacking.\n",
    "\n",
    "**Disadvantages of Ensemble Methods:**\n",
    "\n",
    "**Computationally Expensive:** Training multiple models, especially in boosting and stacking, can be time-consuming and resource-intensive.\n",
    "\n",
    "**Interpretability:** Ensembles, especially when many models are combined, can be harder to interpret compared to a single model."
   ]
  },
  {
   "cell_type": "markdown",
   "id": "a2e4d116",
   "metadata": {},
   "source": [
    "# Random Forest: Concept\n",
    "\n",
    "- It’s based on the concept of combining multiple decision trees to improve performance and reduce overfitting, using the ensemble technique called bagging (Bootstrap Aggregating)."
   ]
  },
  {
   "cell_type": "markdown",
   "id": "ac0c93e9",
   "metadata": {},
   "source": [
    "#### How Random Forest Works\n",
    "\n",
    "- Random Forest builds a “forest” of decision trees, each trained on a random subset of the data and random subset of features. Here's the core idea:\n",
    "\n",
    "**Training Phase:**\n",
    "\n",
    "**1. Bootstrap Sampling (Bagging):**\n",
    "\n",
    "- Randomly select (with replacement) samples from the training data to create different training subsets for each tree.\n",
    "\n",
    "**2. Feature Randomness:**\n",
    "\n",
    "- At each split in a tree, instead of considering all features, it randomly selects a subset of features. This makes the trees diverse.\n",
    "\n",
    "**3. Train Decision Trees:**\n",
    "\n",
    "- Each tree is trained on its own random subset of the data and features."
   ]
  },
  {
   "cell_type": "markdown",
   "id": "634d05bc",
   "metadata": {},
   "source": [
    "**Prediction Phase:**\n",
    "\n",
    "- For classification, each tree votes on the class label, and the majority vote is the final prediction.\n",
    "- For regression, the prediction is the average of all tree outputs."
   ]
  },
  {
   "cell_type": "markdown",
   "id": "bd8da753",
   "metadata": {},
   "source": [
    "**Why It Works**\n",
    "\n",
    "- By combining many weak learners (decision trees), Random Forest becomes a strong learner.\n",
    "- The random sampling of data and features reduces correlation between individual trees, which is key to reducing variance and overfitting."
   ]
  },
  {
   "cell_type": "markdown",
   "id": "54d69c12",
   "metadata": {},
   "source": [
    "### Advantages of Random Forest\n",
    "\n",
    "| Advantage                        | Explanation                                                   |\n",
    "|----------------------------------|---------------------------------------------------------------|\n",
    "|  High Accuracy                 | Often better than individual models.                          |\n",
    "|  Robust to Overfitting         | Due to randomness and aggregation.                            |\n",
    "|  Handles Non-linearity         | No need for feature scaling or linear assumptions.            |\n",
    "|  Works on Classification & Regression | Versatile and flexible.                             |\n",
    "|  Feature Importance            | Can rank the importance of features in prediction.            |\n",
    "|  Handles Missing Values        | Fairly well, especially in scikit-learn's implementation.      |"
   ]
  },
  {
   "cell_type": "code",
   "execution_count": 12,
   "id": "444f8f42",
   "metadata": {},
   "outputs": [],
   "source": [
    "# Step 1: Import required libraries\n",
    "from sklearn.datasets import load_breast_cancer\n",
    "from sklearn.ensemble import RandomForestClassifier\n",
    "from sklearn.model_selection import train_test_split\n",
    "from sklearn.metrics import classification_report, accuracy_score, confusion_matrix\n",
    "import seaborn as sns\n",
    "import matplotlib.pyplot as plt"
   ]
  },
  {
   "cell_type": "code",
   "execution_count": 13,
   "id": "f63044fd",
   "metadata": {},
   "outputs": [],
   "source": [
    "# Step 2: Load the dataset\n",
    "data = load_breast_cancer()\n",
    "X = data.data\n",
    "y = data.target"
   ]
  },
  {
   "cell_type": "code",
   "execution_count": 14,
   "id": "0078a415",
   "metadata": {},
   "outputs": [],
   "source": [
    "# Step 3: Split into training and testing sets\n",
    "X_train, X_test, y_train, y_test = train_test_split(X, y, test_size=0.2, random_state=42)"
   ]
  },
  {
   "cell_type": "code",
   "execution_count": 15,
   "id": "7d7447b8",
   "metadata": {},
   "outputs": [
    {
     "data": {
      "text/html": [
       "<style>#sk-container-id-1 {color: black;background-color: white;}#sk-container-id-1 pre{padding: 0;}#sk-container-id-1 div.sk-toggleable {background-color: white;}#sk-container-id-1 label.sk-toggleable__label {cursor: pointer;display: block;width: 100%;margin-bottom: 0;padding: 0.3em;box-sizing: border-box;text-align: center;}#sk-container-id-1 label.sk-toggleable__label-arrow:before {content: \"▸\";float: left;margin-right: 0.25em;color: #696969;}#sk-container-id-1 label.sk-toggleable__label-arrow:hover:before {color: black;}#sk-container-id-1 div.sk-estimator:hover label.sk-toggleable__label-arrow:before {color: black;}#sk-container-id-1 div.sk-toggleable__content {max-height: 0;max-width: 0;overflow: hidden;text-align: left;background-color: #f0f8ff;}#sk-container-id-1 div.sk-toggleable__content pre {margin: 0.2em;color: black;border-radius: 0.25em;background-color: #f0f8ff;}#sk-container-id-1 input.sk-toggleable__control:checked~div.sk-toggleable__content {max-height: 200px;max-width: 100%;overflow: auto;}#sk-container-id-1 input.sk-toggleable__control:checked~label.sk-toggleable__label-arrow:before {content: \"▾\";}#sk-container-id-1 div.sk-estimator input.sk-toggleable__control:checked~label.sk-toggleable__label {background-color: #d4ebff;}#sk-container-id-1 div.sk-label input.sk-toggleable__control:checked~label.sk-toggleable__label {background-color: #d4ebff;}#sk-container-id-1 input.sk-hidden--visually {border: 0;clip: rect(1px 1px 1px 1px);clip: rect(1px, 1px, 1px, 1px);height: 1px;margin: -1px;overflow: hidden;padding: 0;position: absolute;width: 1px;}#sk-container-id-1 div.sk-estimator {font-family: monospace;background-color: #f0f8ff;border: 1px dotted black;border-radius: 0.25em;box-sizing: border-box;margin-bottom: 0.5em;}#sk-container-id-1 div.sk-estimator:hover {background-color: #d4ebff;}#sk-container-id-1 div.sk-parallel-item::after {content: \"\";width: 100%;border-bottom: 1px solid gray;flex-grow: 1;}#sk-container-id-1 div.sk-label:hover label.sk-toggleable__label {background-color: #d4ebff;}#sk-container-id-1 div.sk-serial::before {content: \"\";position: absolute;border-left: 1px solid gray;box-sizing: border-box;top: 0;bottom: 0;left: 50%;z-index: 0;}#sk-container-id-1 div.sk-serial {display: flex;flex-direction: column;align-items: center;background-color: white;padding-right: 0.2em;padding-left: 0.2em;position: relative;}#sk-container-id-1 div.sk-item {position: relative;z-index: 1;}#sk-container-id-1 div.sk-parallel {display: flex;align-items: stretch;justify-content: center;background-color: white;position: relative;}#sk-container-id-1 div.sk-item::before, #sk-container-id-1 div.sk-parallel-item::before {content: \"\";position: absolute;border-left: 1px solid gray;box-sizing: border-box;top: 0;bottom: 0;left: 50%;z-index: -1;}#sk-container-id-1 div.sk-parallel-item {display: flex;flex-direction: column;z-index: 1;position: relative;background-color: white;}#sk-container-id-1 div.sk-parallel-item:first-child::after {align-self: flex-end;width: 50%;}#sk-container-id-1 div.sk-parallel-item:last-child::after {align-self: flex-start;width: 50%;}#sk-container-id-1 div.sk-parallel-item:only-child::after {width: 0;}#sk-container-id-1 div.sk-dashed-wrapped {border: 1px dashed gray;margin: 0 0.4em 0.5em 0.4em;box-sizing: border-box;padding-bottom: 0.4em;background-color: white;}#sk-container-id-1 div.sk-label label {font-family: monospace;font-weight: bold;display: inline-block;line-height: 1.2em;}#sk-container-id-1 div.sk-label-container {text-align: center;}#sk-container-id-1 div.sk-container {/* jupyter's `normalize.less` sets `[hidden] { display: none; }` but bootstrap.min.css set `[hidden] { display: none !important; }` so we also need the `!important` here to be able to override the default hidden behavior on the sphinx rendered scikit-learn.org. See: https://github.com/scikit-learn/scikit-learn/issues/21755 */display: inline-block !important;position: relative;}#sk-container-id-1 div.sk-text-repr-fallback {display: none;}</style><div id=\"sk-container-id-1\" class=\"sk-top-container\"><div class=\"sk-text-repr-fallback\"><pre>RandomForestClassifier(random_state=42)</pre><b>In a Jupyter environment, please rerun this cell to show the HTML representation or trust the notebook. <br />On GitHub, the HTML representation is unable to render, please try loading this page with nbviewer.org.</b></div><div class=\"sk-container\" hidden><div class=\"sk-item\"><div class=\"sk-estimator sk-toggleable\"><input class=\"sk-toggleable__control sk-hidden--visually\" id=\"sk-estimator-id-1\" type=\"checkbox\" checked><label for=\"sk-estimator-id-1\" class=\"sk-toggleable__label sk-toggleable__label-arrow\">RandomForestClassifier</label><div class=\"sk-toggleable__content\"><pre>RandomForestClassifier(random_state=42)</pre></div></div></div></div></div>"
      ],
      "text/plain": [
       "RandomForestClassifier(random_state=42)"
      ]
     },
     "execution_count": 15,
     "metadata": {},
     "output_type": "execute_result"
    }
   ],
   "source": [
    "# Step 4: Initialize and train the Random Forest model\n",
    "rf_model = RandomForestClassifier(n_estimators=100, random_state=42)\n",
    "rf_model.fit(X_train, y_train)"
   ]
  },
  {
   "cell_type": "code",
   "execution_count": 16,
   "id": "bba4d7ec",
   "metadata": {},
   "outputs": [],
   "source": [
    "# Step 5: Make predictions\n",
    "y_pred = rf_model.predict(X_test)"
   ]
  },
  {
   "cell_type": "code",
   "execution_count": 17,
   "id": "dd95ea75",
   "metadata": {},
   "outputs": [
    {
     "name": "stdout",
     "output_type": "stream",
     "text": [
      " Accuracy: 0.9649122807017544\n",
      "\n",
      " Classification Report:\n",
      "               precision    recall  f1-score   support\n",
      "\n",
      "           0       0.98      0.93      0.95        43\n",
      "           1       0.96      0.99      0.97        71\n",
      "\n",
      "    accuracy                           0.96       114\n",
      "   macro avg       0.97      0.96      0.96       114\n",
      "weighted avg       0.97      0.96      0.96       114\n",
      "\n"
     ]
    }
   ],
   "source": [
    "# Step 6: Evaluate the model\n",
    "print(\" Accuracy:\", accuracy_score(y_test, y_pred))\n",
    "print(\"\\n Classification Report:\\n\", classification_report(y_test, y_pred))"
   ]
  },
  {
   "cell_type": "code",
   "execution_count": 18,
   "id": "3685ce87",
   "metadata": {},
   "outputs": [
    {
     "data": {
      "image/png": "[encoded data removed]",
      "text/plain": [
       "<Figure size 600x400 with 2 Axes>"
      ]
     },
     "metadata": {},
     "output_type": "display_data"
    }
   ],
   "source": [
    "# Step 7: Confusion Matrix Visualization\n",
    "cm = confusion_matrix(y_test, y_pred)\n",
    "plt.figure(figsize=(6, 4))\n",
    "sns.heatmap(cm, annot=True, fmt='d', cmap='Blues', xticklabels=data.target_names, yticklabels=data.target_names)\n",
    "plt.title(\" Confusion Matrix\")\n",
    "plt.xlabel(\"Predicted\")\n",
    "plt.ylabel(\"Actual\")\n",
    "plt.show()"
   ]
  }
 ],
 "metadata": {
  "kernelspec": {
   "display_name": "Python 3 (ipykernel)",
   "language": "python",
   "name": "python3"
  },
  "language_info": {
   "codemirror_mode": {
    "name": "ipython",
    "version": 3
   },
   "file_extension": ".py",
   "mimetype": "text/x-python",
   "name": "python",
   "nbconvert_exporter": "python",
   "pygments_lexer": "ipython3",
   "version": "3.10.11"
  }
 },
 "nbformat": 4,
 "nbformat_minor": 5
}
