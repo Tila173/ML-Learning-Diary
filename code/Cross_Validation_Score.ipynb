{
 "cells": [
  {
   "cell_type": "markdown",
   "id": "411ae285",
   "metadata": {},
   "source": [
    "# What Is Cross-Validation (CV)?\n",
    "Cross-validation (CV) is a resampling technique used to evaluate the generalization performance of a machine learning model. It helps ensure that your model performs well not just on the training data, but also on unseen data."
   ]
  },
  {
   "cell_type": "markdown",
   "id": "f2f03cc0",
   "metadata": {},
   "source": [
    "#### Why Use Cross-Validation?\n",
    "- Avoids overfitting\n",
    "- Provides a more reliable estimate of model performance\n",
    "- Ensures the model is tested on different subsets of the data"
   ]
  },
  {
   "cell_type": "markdown",
   "id": "a32d0dd9",
   "metadata": {},
   "source": [
    "### MAIN CROSS-VALIDATION TECHNIQUES"
   ]
  },
  {
   "cell_type": "markdown",
   "id": "878a8a2c",
   "metadata": {},
   "source": [
    "**1. Hold-Out Validation**\n",
    "\n",
    "**Explanation:**\n",
    "- Split data into one training and one test set (e.g., 80% train, 20% test).\n",
    "\n",
    "**Use Case:**\n",
    "- Quick model testing on small projects."
   ]
  },
  {
   "cell_type": "code",
   "execution_count": 1,
   "id": "7efd76a1",
   "metadata": {},
   "outputs": [
    {
     "name": "stdout",
     "output_type": "stream",
     "text": [
      "Accuracy: 1.0\n",
      "\n",
      "Classification Report:\n",
      "               precision    recall  f1-score   support\n",
      "\n",
      "           0       1.00      1.00      1.00        19\n",
      "           1       1.00      1.00      1.00        21\n",
      "           2       1.00      1.00      1.00        14\n",
      "\n",
      "    accuracy                           1.00        54\n",
      "   macro avg       1.00      1.00      1.00        54\n",
      "weighted avg       1.00      1.00      1.00        54\n",
      "\n"
     ]
    }
   ],
   "source": [
    "from sklearn.datasets import load_wine\n",
    "from sklearn.ensemble import RandomForestClassifier\n",
    "from sklearn.model_selection import train_test_split\n",
    "from sklearn.metrics import accuracy_score, classification_report\n",
    "\n",
    "# Load the Wine dataset\n",
    "X, y = load_wine(return_X_y=True)\n",
    "\n",
    "# Split data: 70% train, 30% test\n",
    "X_train, X_test, y_train, y_test = train_test_split(X, y, test_size=0.3, random_state=42)\n",
    "\n",
    "# Initialize model\n",
    "model = RandomForestClassifier(random_state=42)\n",
    "\n",
    "# Train\n",
    "model.fit(X_train, y_train)\n",
    "\n",
    "# Predict\n",
    "y_pred = model.predict(X_test)\n",
    "\n",
    "# Evaluate\n",
    "print(\"Accuracy:\", accuracy_score(y_test, y_pred))\n",
    "print(\"\\nClassification Report:\\n\", classification_report(y_test, y_pred))"
   ]
  },
  {
   "cell_type": "markdown",
   "id": "bbe1b317",
   "metadata": {},
   "source": [
    "**2. K-Fold Cross-Validation (Standard)**\n",
    "\n",
    "**Description:**\n",
    "- Splits dataset into K equal folds.\n",
    "- Trains on K-1 folds and tests on the remaining fold.\n",
    "- Repeats K times with each fold as test set once."
   ]
  },
  {
   "cell_type": "code",
   "execution_count": 2,
   "id": "821332f9",
   "metadata": {},
   "outputs": [
    {
     "name": "stdout",
     "output_type": "stream",
     "text": [
      "K-Fold CV Scores: [1.         1.         0.93333333 0.96666667 0.96666667]\n",
      "Mean Accuracy: 0.9733333333333334\n"
     ]
    }
   ],
   "source": [
    "from sklearn.datasets import load_iris\n",
    "from sklearn.linear_model import LogisticRegression\n",
    "from sklearn.model_selection import KFold, cross_val_score\n",
    "\n",
    "# Load data\n",
    "X, y = load_iris(return_X_y=True)\n",
    "model = LogisticRegression(max_iter=1000)\n",
    "\n",
    "# K-Fold (K=5)\n",
    "kf = KFold(n_splits=5, shuffle=True, random_state=42)\n",
    "scores = cross_val_score(model, X, y, cv=kf)\n",
    "\n",
    "print(\"K-Fold CV Scores:\", scores)\n",
    "print(\"Mean Accuracy:\", scores.mean())"
   ]
  },
  {
   "cell_type": "markdown",
   "id": "7d58cf01",
   "metadata": {},
   "source": [
    "**3. Stratified K-Fold Cross-Validation**\n",
    "\n",
    "**Description:**\n",
    "- Like K-Fold but preserves class proportions in each fold.\n",
    "- Especially useful for imbalanced datasets."
   ]
  },
  {
   "cell_type": "code",
   "execution_count": 3,
   "id": "0b0fd2d0",
   "metadata": {},
   "outputs": [
    {
     "name": "stdout",
     "output_type": "stream",
     "text": [
      "Stratified K-Fold CV Scores: [0.94736842 0.92982456 0.95614035 0.93859649 0.96460177]\n",
      "Mean Accuracy: 0.9473063188945815\n"
     ]
    }
   ],
   "source": [
    "from sklearn.datasets import load_breast_cancer\n",
    "from sklearn.svm import SVC\n",
    "from sklearn.model_selection import StratifiedKFold\n",
    "\n",
    "X, y = load_breast_cancer(return_X_y=True)\n",
    "model = SVC(kernel='linear')\n",
    "\n",
    "# Stratified K-Fold (K=5)\n",
    "skf = StratifiedKFold(n_splits=5, shuffle=True, random_state=42)\n",
    "scores = cross_val_score(model, X, y, cv=skf)\n",
    "\n",
    "print(\"Stratified K-Fold CV Scores:\", scores)\n",
    "print(\"Mean Accuracy:\", scores.mean())"
   ]
  },
  {
   "cell_type": "markdown",
   "id": "3cca1f37",
   "metadata": {},
   "source": [
    "**4. Leave-One-Out Cross-Validation (LOOCV)**\n",
    "\n",
    "**Description:**\n",
    "- Uses 1 data point for testing and the rest for training.\n",
    "- Repeats for each data point.\n",
    "- Computationally expensive but very thorough."
   ]
  },
  {
   "cell_type": "code",
   "execution_count": 5,
   "id": "4b8bd436",
   "metadata": {},
   "outputs": [
    {
     "name": "stdout",
     "output_type": "stream",
     "text": [
      "LOOCV Mean Accuracy: 0.6561085972850679\n"
     ]
    }
   ],
   "source": [
    "from sklearn.datasets import load_diabetes\n",
    "from sklearn.tree import DecisionTreeClassifier\n",
    "from sklearn.model_selection import LeaveOneOut\n",
    "\n",
    "X, y = load_diabetes(return_X_y=True)\n",
    "y = (y > y.mean()).astype(int)  # convert to classification\n",
    "model = DecisionTreeClassifier()\n",
    "\n",
    "# LOOCV\n",
    "loo = LeaveOneOut()\n",
    "scores = cross_val_score(model, X, y, cv=loo)\n",
    "\n",
    "print(\"LOOCV Mean Accuracy:\", scores.mean())"
   ]
  },
  {
   "cell_type": "markdown",
   "id": "30c9c908",
   "metadata": {},
   "source": [
    "**5. ShuffleSplit Cross-Validation**\n",
    " \n",
    "**Description:**\n",
    "- Randomly shuffles data and creates random train/test splits.\n",
    "- Flexible in specifying number of splits and test sizes."
   ]
  },
  {
   "cell_type": "code",
   "execution_count": 6,
   "id": "748ed529",
   "metadata": {},
   "outputs": [
    {
     "name": "stdout",
     "output_type": "stream",
     "text": [
      "ShuffleSplit CV Scores: [0.99259259 0.98888889 0.98333333 0.98888889 0.98148148 0.98703704\n",
      " 0.98518519 0.98333333 0.98333333 0.97407407]\n",
      "Mean Accuracy: 0.9848148148148148\n"
     ]
    }
   ],
   "source": [
    "from sklearn.datasets import load_digits\n",
    "from sklearn.neighbors import KNeighborsClassifier\n",
    "from sklearn.model_selection import ShuffleSplit\n",
    "\n",
    "X, y = load_digits(return_X_y=True)\n",
    "model = KNeighborsClassifier()\n",
    "\n",
    "# ShuffleSplit: 10 splits, 30% test size\n",
    "ss = ShuffleSplit(n_splits=10, test_size=0.3, random_state=42)\n",
    "scores = cross_val_score(model, X, y, cv=ss)\n",
    "\n",
    "print(\"ShuffleSplit CV Scores:\", scores)\n",
    "print(\"Mean Accuracy:\", scores.mean())"
   ]
  },
  {
   "cell_type": "markdown",
   "id": "f397eaf1",
   "metadata": {},
   "source": [
    "**6. TimeSeriesSplit Cross-Validation**\n",
    "\n",
    "**Description:**\n",
    "- Used for time-series data.\n",
    "- Splits are done such that training data is always before test data."
   ]
  },
  {
   "cell_type": "code",
   "execution_count": 7,
   "id": "c0d4488b",
   "metadata": {},
   "outputs": [
    {
     "name": "stdout",
     "output_type": "stream",
     "text": [
      "TimeSeriesSplit CV MSE: [313.61490076 117.99026432 176.20466935 162.60255264  25.79126537]\n",
      "Mean MSE: 159.2407304885267\n"
     ]
    }
   ],
   "source": [
    "import numpy as np\n",
    "from sklearn.ensemble import RandomForestRegressor\n",
    "from sklearn.model_selection import TimeSeriesSplit\n",
    "from sklearn.metrics import mean_squared_error, make_scorer\n",
    "\n",
    "# Synthetic time-series data\n",
    "X = np.arange(100).reshape(-1, 1)\n",
    "y = X.flatten() + np.random.normal(0, 5, 100)\n",
    "\n",
    "model = RandomForestRegressor()\n",
    "\n",
    "# TimeSeriesSplit\n",
    "tscv = TimeSeriesSplit(n_splits=5)\n",
    "scores = cross_val_score(model, X, y, cv=tscv, scoring=make_scorer(mean_squared_error))\n",
    "\n",
    "print(\"TimeSeriesSplit CV MSE:\", scores)\n",
    "print(\"Mean MSE:\", scores.mean())"
   ]
  },
  {
   "cell_type": "markdown",
   "id": "54721e9e",
   "metadata": {},
   "source": [
    "### Visual Summary: Hyperparameter Tuning vs Cross-Validation Score\n",
    "\n",
    "| **Feature**             | **Hyperparameter Tuning**                       | **Cross-Validation Score**              |\n",
    "|-------------------------|--------------------------------------------------|------------------------------------------|\n",
    "| **Purpose**             | Improve model via best hyperparameters          | Estimate generalization performance      |\n",
    "| **Output**              | Best parameters and the model                   | Accuracy, F1, AUC, etc. (averaged)       |\n",
    "| **Method**              | Grid, Random, Optuna, Hyperopt, etc.            | K-Fold, Stratified, TimeSeriesSplit      |\n",
    "| **Used by**             | `GridSearchCV`, `RandomizedSearchCV`, etc.      | `cross_val_score`, internally in tuning  |\n",
    "| **Computational Cost**  | Higher (tries multiple models)                  | Lower (only model evaluation)            |"
   ]
  },
  {
   "cell_type": "code",
   "execution_count": 8,
   "id": "6f11efe3",
   "metadata": {},
   "outputs": [
    {
     "name": "stdout",
     "output_type": "stream",
     "text": [
      "Best Parameters: {'C': 1, 'kernel': 'linear'}\n",
      "Best Cross-Validation Score: 0.9800000000000001\n"
     ]
    }
   ],
   "source": [
    "from sklearn.datasets import load_iris\n",
    "from sklearn.model_selection import GridSearchCV\n",
    "from sklearn.svm import SVC\n",
    "\n",
    "# Load data\n",
    "X, y = load_iris(return_X_y=True)\n",
    "\n",
    "# Hyperparameter grid\n",
    "param_grid = {'C': [0.1, 1, 10], 'kernel': ['linear', 'rbf']}\n",
    "\n",
    "# Grid Search with Cross-Validation (cv=5)\n",
    "grid = GridSearchCV(SVC(), param_grid, cv=5)\n",
    "grid.fit(X, y)\n",
    "\n",
    "# Best params and score (CV used internally)\n",
    "print(\"Best Parameters:\", grid.best_params_)\n",
    "print(\"Best Cross-Validation Score:\", grid.best_score_)"
   ]
  }
 ],
 "metadata": {
  "kernelspec": {
   "display_name": "Python 3 (ipykernel)",
   "language": "python",
   "name": "python3"
  },
  "language_info": {
   "codemirror_mode": {
    "name": "ipython",
    "version": 3
   },
   "file_extension": ".py",
   "mimetype": "text/x-python",
   "name": "python",
   "nbconvert_exporter": "python",
   "pygments_lexer": "ipython3",
   "version": "3.10.11"
  }
 },
 "nbformat": 4,
 "nbformat_minor": 5
}
