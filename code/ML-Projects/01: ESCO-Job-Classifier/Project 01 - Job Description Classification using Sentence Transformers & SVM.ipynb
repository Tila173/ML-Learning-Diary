{
 "cells": [
  {
   "cell_type": "markdown",
   "id": "017ae0c1",
   "metadata": {},
   "source": [
    "### Objective:\n",
    "To classify job descriptions into standardized ESCO occupation codes using Sentence-BERT embeddings and Linear Support Vector Machine (SVM)."
   ]
  },
  {
   "cell_type": "markdown",
   "id": "62ba5d81",
   "metadata": {},
   "source": [
    "### Importing Required Libraries"
   ]
  },
  {
   "cell_type": "code",
   "execution_count": 7,
   "id": "472c21e6",
   "metadata": {},
   "outputs": [],
   "source": [
    "import pandas as pd\n",
    "import numpy as np\n",
    "import re\n",
    "from collections import Counter #To identify most common job codes.\n",
    "from sklearn.model_selection import train_test_split\n",
    "from sklearn.svm import LinearSVC #Classifier for multi-class SVM.\n",
    "from sentence_transformers import SentenceTransformer\n",
    "from sklearn.metrics import classification_report\n",
    "from sklearn.preprocessing import LabelEncoder #Convert ESCO codes to numerical labels.\n",
    "from sentence_transformers import SentenceTransformer #Generate dense semantic embeddings of job descriptions using pretrained BERT-like models."
   ]
  },
  {
   "cell_type": "markdown",
   "id": "e11f65c7",
   "metadata": {},
   "source": [
    "### Load the ESCO Occupation Dataset"
   ]
  },
  {
   "cell_type": "code",
   "execution_count": 8,
   "id": "e769b87d",
   "metadata": {},
   "outputs": [],
   "source": [
    "df = pd.read_csv('C:/Users/hp/Desktop/Machine Learning/Datasets/ESCO dataset - v1.2.0 - classification - en - csv/occupations_en.csv')"
   ]
  },
  {
   "cell_type": "markdown",
   "id": "e1aa951f",
   "metadata": {},
   "source": [
    "### Data Preprocessing and Text Cleaning"
   ]
  },
  {
   "cell_type": "code",
   "execution_count": 9,
   "id": "643b553c",
   "metadata": {},
   "outputs": [],
   "source": [
    "def clean_text(text): #removes punctuation, trims spaces, and lowercases the text.\n",
    "    \"\"\"Clean job description text.\"\"\"\n",
    "    text = str(text).lower().strip()\n",
    "    text = re.sub(r'\\s+', ' ', text)  # Remove extra spaces\n",
    "    text = re.sub(r'[^\\w\\s]', '', text)  # Remove punctuation\n",
    "    return text\n",
    "\n",
    "# Combine multiple text columns to create a richer description\n",
    "df['job_text'] = (\n",
    "    df['preferredLabel'].fillna('').map(clean_text) + ' ' +\n",
    "    df['altLabels'].fillna('').map(clean_text) + ' ' +\n",
    "    df['definition'].fillna('').map(clean_text) + ' ' +\n",
    "    df['description'].fillna('').map(clean_text)\n",
    ")"
   ]
  },
  {
   "cell_type": "markdown",
   "id": "fa1d615a",
   "metadata": {},
   "source": [
    "### Filter Dataset to Top-N Frequent Classes (Reducing Noise)"
   ]
  },
  {
   "cell_type": "code",
   "execution_count": 10,
   "id": "1b4b2719",
   "metadata": {},
   "outputs": [],
   "source": [
    "#Focuses on the top 500 most frequent job codes to reduce class imbalance and improve model performance.\n",
    "top_n = 500\n",
    "top_classes = [label for label, _ in Counter(df['code']).most_common(top_n)]\n",
    "\n",
    "# Filter the DataFrame to keep only the top N frequent job classes\n",
    "mask = np.isin(df['code'], top_classes)\n",
    "df_filtered = df[mask]"
   ]
  },
  {
   "cell_type": "markdown",
   "id": "fb4155a8",
   "metadata": {},
   "source": [
    "### Feature Engineering - Convert Job Text to Embeddings\n",
    "**Sentence Embeddings with BERT**"
   ]
  },
  {
   "cell_type": "code",
   "execution_count": 11,
   "id": "137a86eb",
   "metadata": {},
   "outputs": [
    {
     "name": "stderr",
     "output_type": "stream",
     "text": [
      "C:\\Users\\hp\\AppData\\Local\\Packages\\PythonSoftwareFoundation.Python.3.10_qbz5n2kfra8p0\\LocalCache\\local-packages\\Python310\\site-packages\\transformers\\tokenization_utils_base.py:1601: FutureWarning: `clean_up_tokenization_spaces` was not set. It will be set to `True` by default. This behavior will be depracted in transformers v4.45, and will be then set to `False` by default. For more details check this issue: https://github.com/huggingface/transformers/issues/31884\n",
      "  warnings.warn(\n"
     ]
    },
    {
     "data": {
      "application/vnd.jupyter.widget-view+json": {
       "model_id": "f095b6d7c6b748e287eaa0ebee5480b0",
       "version_major": 2,
       "version_minor": 0
      },
      "text/plain": [
       "Batches:   0%|          | 0/16 [00:00<?, ?it/s]"
      ]
     },
     "metadata": {},
     "output_type": "display_data"
    }
   ],
   "source": [
    "# Initialize the BERT model (Sentence-BERT)\n",
    "model_name = 'all-MiniLM-L6-v2'  # Pre-trained model for sentence embeddings\n",
    "embedder = SentenceTransformer(model_name)\n",
    "\n",
    "# Convert job descriptions to BERT embeddings (vector representations)\n",
    "X = embedder.encode(df_filtered['job_text'].tolist(), show_progress_bar=True)"
   ]
  },
  {
   "cell_type": "markdown",
   "id": "1d39371b",
   "metadata": {},
   "source": [
    "### Encode Target Labels (ESCO Codes)"
   ]
  },
  {
   "cell_type": "code",
   "execution_count": 12,
   "id": "2c04fa63",
   "metadata": {},
   "outputs": [],
   "source": [
    "#Converts job codes (strings like '2144.1.8') into numerical labels for training.\n",
    "#Later used to decode predictions back into ESCO codes.\n",
    "\n",
    "le = LabelEncoder()\n",
    "y = le.fit_transform(df_filtered['code'])"
   ]
  },
  {
   "cell_type": "markdown",
   "id": "9dd2c712",
   "metadata": {},
   "source": [
    "### Split Data into Train and Test Sets"
   ]
  },
  {
   "cell_type": "code",
   "execution_count": 13,
   "id": "18bb2154",
   "metadata": {},
   "outputs": [],
   "source": [
    "X_train, X_test, y_train, y_test = train_test_split(X, y, test_size=0.2, random_state=42)"
   ]
  },
  {
   "cell_type": "markdown",
   "id": "09a18ba0",
   "metadata": {},
   "source": [
    "### Train the Model with Class Weighting to Handle Class Imbalance"
   ]
  },
  {
   "cell_type": "code",
   "execution_count": 14,
   "id": "02943ee3",
   "metadata": {},
   "outputs": [
    {
     "data": {
      "text/html": [
       "<style>#sk-container-id-1 {color: black;background-color: white;}#sk-container-id-1 pre{padding: 0;}#sk-container-id-1 div.sk-toggleable {background-color: white;}#sk-container-id-1 label.sk-toggleable__label {cursor: pointer;display: block;width: 100%;margin-bottom: 0;padding: 0.3em;box-sizing: border-box;text-align: center;}#sk-container-id-1 label.sk-toggleable__label-arrow:before {content: \"▸\";float: left;margin-right: 0.25em;color: #696969;}#sk-container-id-1 label.sk-toggleable__label-arrow:hover:before {color: black;}#sk-container-id-1 div.sk-estimator:hover label.sk-toggleable__label-arrow:before {color: black;}#sk-container-id-1 div.sk-toggleable__content {max-height: 0;max-width: 0;overflow: hidden;text-align: left;background-color: #f0f8ff;}#sk-container-id-1 div.sk-toggleable__content pre {margin: 0.2em;color: black;border-radius: 0.25em;background-color: #f0f8ff;}#sk-container-id-1 input.sk-toggleable__control:checked~div.sk-toggleable__content {max-height: 200px;max-width: 100%;overflow: auto;}#sk-container-id-1 input.sk-toggleable__control:checked~label.sk-toggleable__label-arrow:before {content: \"▾\";}#sk-container-id-1 div.sk-estimator input.sk-toggleable__control:checked~label.sk-toggleable__label {background-color: #d4ebff;}#sk-container-id-1 div.sk-label input.sk-toggleable__control:checked~label.sk-toggleable__label {background-color: #d4ebff;}#sk-container-id-1 input.sk-hidden--visually {border: 0;clip: rect(1px 1px 1px 1px);clip: rect(1px, 1px, 1px, 1px);height: 1px;margin: -1px;overflow: hidden;padding: 0;position: absolute;width: 1px;}#sk-container-id-1 div.sk-estimator {font-family: monospace;background-color: #f0f8ff;border: 1px dotted black;border-radius: 0.25em;box-sizing: border-box;margin-bottom: 0.5em;}#sk-container-id-1 div.sk-estimator:hover {background-color: #d4ebff;}#sk-container-id-1 div.sk-parallel-item::after {content: \"\";width: 100%;border-bottom: 1px solid gray;flex-grow: 1;}#sk-container-id-1 div.sk-label:hover label.sk-toggleable__label {background-color: #d4ebff;}#sk-container-id-1 div.sk-serial::before {content: \"\";position: absolute;border-left: 1px solid gray;box-sizing: border-box;top: 0;bottom: 0;left: 50%;z-index: 0;}#sk-container-id-1 div.sk-serial {display: flex;flex-direction: column;align-items: center;background-color: white;padding-right: 0.2em;padding-left: 0.2em;position: relative;}#sk-container-id-1 div.sk-item {position: relative;z-index: 1;}#sk-container-id-1 div.sk-parallel {display: flex;align-items: stretch;justify-content: center;background-color: white;position: relative;}#sk-container-id-1 div.sk-item::before, #sk-container-id-1 div.sk-parallel-item::before {content: \"\";position: absolute;border-left: 1px solid gray;box-sizing: border-box;top: 0;bottom: 0;left: 50%;z-index: -1;}#sk-container-id-1 div.sk-parallel-item {display: flex;flex-direction: column;z-index: 1;position: relative;background-color: white;}#sk-container-id-1 div.sk-parallel-item:first-child::after {align-self: flex-end;width: 50%;}#sk-container-id-1 div.sk-parallel-item:last-child::after {align-self: flex-start;width: 50%;}#sk-container-id-1 div.sk-parallel-item:only-child::after {width: 0;}#sk-container-id-1 div.sk-dashed-wrapped {border: 1px dashed gray;margin: 0 0.4em 0.5em 0.4em;box-sizing: border-box;padding-bottom: 0.4em;background-color: white;}#sk-container-id-1 div.sk-label label {font-family: monospace;font-weight: bold;display: inline-block;line-height: 1.2em;}#sk-container-id-1 div.sk-label-container {text-align: center;}#sk-container-id-1 div.sk-container {/* jupyter's `normalize.less` sets `[hidden] { display: none; }` but bootstrap.min.css set `[hidden] { display: none !important; }` so we also need the `!important` here to be able to override the default hidden behavior on the sphinx rendered scikit-learn.org. See: https://github.com/scikit-learn/scikit-learn/issues/21755 */display: inline-block !important;position: relative;}#sk-container-id-1 div.sk-text-repr-fallback {display: none;}</style><div id=\"sk-container-id-1\" class=\"sk-top-container\"><div class=\"sk-text-repr-fallback\"><pre>LinearSVC(class_weight=&#x27;balanced&#x27;)</pre><b>In a Jupyter environment, please rerun this cell to show the HTML representation or trust the notebook. <br />On GitHub, the HTML representation is unable to render, please try loading this page with nbviewer.org.</b></div><div class=\"sk-container\" hidden><div class=\"sk-item\"><div class=\"sk-estimator sk-toggleable\"><input class=\"sk-toggleable__control sk-hidden--visually\" id=\"sk-estimator-id-1\" type=\"checkbox\" checked><label for=\"sk-estimator-id-1\" class=\"sk-toggleable__label sk-toggleable__label-arrow\">LinearSVC</label><div class=\"sk-toggleable__content\"><pre>LinearSVC(class_weight=&#x27;balanced&#x27;)</pre></div></div></div></div></div>"
      ],
      "text/plain": [
       "LinearSVC(class_weight='balanced')"
      ]
     },
     "execution_count": 14,
     "metadata": {},
     "output_type": "execute_result"
    }
   ],
   "source": [
    "model = LinearSVC(class_weight='balanced') # Automatically balance class weights.(LVC = multi-class classification)\n",
    "model.fit(X_train, y_train)"
   ]
  },
  {
   "cell_type": "markdown",
   "id": "e9841aaa",
   "metadata": {},
   "source": [
    "### Predict and Evaluate the Model"
   ]
  },
  {
   "cell_type": "code",
   "execution_count": 15,
   "id": "3334fc3d",
   "metadata": {},
   "outputs": [
    {
     "name": "stdout",
     "output_type": "stream",
     "text": [
      "\n",
      "Classification Report:\n",
      "               precision    recall  f1-score   support\n",
      "\n",
      "      0110.11       0.00      0.00      0.00       1.0\n",
      "       0110.9       0.00      0.00      0.00       0.0\n",
      "       1111.6       0.00      0.00      0.00       1.0\n",
      "       1112.3       0.00      0.00      0.00       0.0\n",
      "     1112.3.1       0.00      0.00      0.00       1.0\n",
      "       1112.6       0.00      0.00      0.00       0.0\n",
      "     1211.1.1       0.00      0.00      0.00       1.0\n",
      "       1219.2       0.00      0.00      0.00       0.0\n",
      "       1221.1       0.00      0.00      0.00       1.0\n",
      "       1221.3       0.00      0.00      0.00       1.0\n",
      " 1221.3.2.1.3       0.00      0.00      0.00       1.0\n",
      "     1223.2.1       0.00      0.00      0.00       1.0\n",
      "   1223.2.1.1       0.00      0.00      0.00       0.0\n",
      "   1321.2.2.1       0.00      0.00      0.00       1.0\n",
      "   1321.2.2.2       0.00      0.00      0.00       0.0\n",
      "1324.3.1.6.11       0.00      0.00      0.00       0.0\n",
      "1324.3.1.6.13       0.00      0.00      0.00       1.0\n",
      " 1324.3.1.6.8       0.00      0.00      0.00       1.0\n",
      "   1324.3.2.1       0.00      0.00      0.00       0.0\n",
      "  1324.3.2.13       0.00      0.00      0.00       0.0\n",
      "  1324.3.2.22       0.00      0.00      0.00       1.0\n",
      "     1345.1.5       0.00      0.00      0.00       1.0\n",
      "      1349.16       0.00      0.00      0.00       1.0\n",
      "    1420.4.17       0.00      0.00      0.00       1.0\n",
      "    1420.4.38       0.00      0.00      0.00       1.0\n",
      "    1420.4.40       0.00      0.00      0.00       0.0\n",
      "     1431.1.2       0.00      0.00      0.00       0.0\n",
      "     1431.2.6       0.00      0.00      0.00       0.0\n",
      "       1439.7       0.00      0.00      0.00       0.0\n",
      "       2112.1       0.00      0.00      0.00       0.0\n",
      "     2114.1.6       0.00      0.00      0.00       0.0\n",
      "       2120.1       0.00      0.00      0.00       1.0\n",
      "    2131.4.11       0.00      0.00      0.00       0.0\n",
      "     2131.4.4       0.00      0.00      0.00       1.0\n",
      "     2142.1.4       0.00      0.00      0.00       1.0\n",
      "    2144.1.20       0.00      0.00      0.00       1.0\n",
      "     2144.1.6       0.00      0.00      0.00       0.0\n",
      "     2149.9.2       0.00      0.00      0.00       1.0\n",
      "     2149.9.7       0.00      0.00      0.00       0.0\n",
      "       2153.1       0.00      0.00      0.00       0.0\n",
      "      2166.11       0.00      0.00      0.00       0.0\n",
      "       2263.2       0.00      0.00      0.00       1.0\n",
      "     2263.3.1       0.00      0.00      0.00       1.0\n",
      "       2269.2       0.00      0.00      0.00       0.0\n",
      "       2269.3       0.00      0.00      0.00       0.0\n",
      "    2310.1.14       0.00      0.00      0.00       0.0\n",
      "    2310.1.30       0.00      0.00      0.00       1.0\n",
      "    2320.1.17       0.00      0.00      0.00       1.0\n",
      "     2352.1.6       0.00      0.00      0.00       0.0\n",
      "       2352.2       0.00      0.00      0.00       1.0\n",
      "       2355.3       0.00      0.00      0.00       0.0\n",
      "     2412.6.1       0.00      0.00      0.00       0.0\n",
      "     2413.1.3       0.00      0.00      0.00       1.0\n",
      "     2413.1.4       0.00      0.00      0.00       0.0\n",
      "       2421.3       0.00      0.00      0.00       1.0\n",
      "    2422.12.8       0.00      0.00      0.00       0.0\n",
      "      2422.14       0.00      0.00      0.00       1.0\n",
      "      2431.16       0.00      0.00      0.00       1.0\n",
      "       2434.3       0.00      0.00      0.00       0.0\n",
      "       2511.5       0.00      0.00      0.00       0.0\n",
      "       2512.2       0.00      0.00      0.00       1.0\n",
      "       2519.4       0.00      0.00      0.00       1.0\n",
      "       2519.7       0.00      0.00      0.00       0.0\n",
      "       2521.5       0.00      0.00      0.00       0.0\n",
      "       2529.2       0.00      0.00      0.00       0.0\n",
      "       2529.3       0.00      0.00      0.00       1.0\n",
      "       2529.6       0.00      0.00      0.00       1.0\n",
      "       2529.7       0.00      0.00      0.00       0.0\n",
      "       2619.4       0.00      0.00      0.00       1.0\n",
      "     2632.1.2       0.00      0.00      0.00       1.0\n",
      "       2632.2       0.00      0.00      0.00       1.0\n",
      "       2632.4       0.00      0.00      0.00       1.0\n",
      "       2632.6       0.00      0.00      0.00       0.0\n",
      "       2633.1       0.00      0.00      0.00       0.0\n",
      "       2636.3       0.00      0.00      0.00       0.0\n",
      "       2652.2       0.00      0.00      0.00       0.0\n",
      "     2652.3.1       0.00      0.00      0.00       1.0\n",
      "       2652.6       0.00      0.00      0.00       1.0\n",
      "       2653.2       0.00      0.00      0.00       1.0\n",
      "     2654.1.7       0.00      0.00      0.00       1.0\n",
      "       2655.1       0.00      0.00      0.00       0.0\n",
      "       2656.1       0.00      0.00      0.00       1.0\n",
      "      3111.12       0.00      0.00      0.00       1.0\n",
      "       3111.8       0.00      0.00      0.00       1.0\n",
      "   3112.1.5.1       0.00      0.00      0.00       0.0\n",
      "       3112.6       0.00      0.00      0.00       1.0\n",
      "     3115.1.1       0.00      0.00      0.00       1.0\n",
      "     3115.1.7       0.00      0.00      0.00       0.0\n",
      "       3117.3       0.00      0.00      0.00       1.0\n",
      "     3118.3.6       0.00      0.00      0.00       0.0\n",
      "     3118.3.7       0.00      0.00      0.00       1.0\n",
      "      3119.12       0.00      0.00      0.00       1.0\n",
      "     3122.3.7       0.00      0.00      0.00       1.0\n",
      "       3123.1       0.00      0.00      0.00       0.0\n",
      "     3123.1.1       0.00      0.00      0.00       0.0\n",
      "    3123.1.15       0.00      0.00      0.00       1.0\n",
      "     3123.1.2       0.00      0.00      0.00       1.0\n",
      "       3132.2       0.00      0.00      0.00       0.0\n",
      "       3142.1       0.00      0.00      0.00       0.0\n",
      "       3152.3       0.00      0.00      0.00       0.0\n",
      "     3254.1.1       0.00      0.00      0.00       0.0\n",
      "       3256.1       0.00      0.00      0.00       1.0\n",
      "     3311.3.1       0.00      0.00      0.00       1.0\n",
      "     3311.3.2       0.00      0.00      0.00       1.0\n",
      "       3312.2       0.00      0.00      0.00       0.0\n",
      "     3312.2.1       0.00      0.00      0.00       1.0\n",
      "       3314.1       0.00      0.00      0.00       0.0\n",
      "       3322.1       0.00      0.00      0.00       0.0\n",
      "     3323.2.1       0.00      0.00      0.00       0.0\n",
      "       3339.5       0.00      0.00      0.00       1.0\n",
      "       3339.6       0.00      0.00      0.00       1.0\n",
      "     3343.1.3       0.00      0.00      0.00       0.0\n",
      "       3344.1       0.00      0.00      0.00       0.0\n",
      "       3412.2       0.00      0.00      0.00       1.0\n",
      "     3412.4.6       0.00      0.00      0.00       0.0\n",
      "       3412.6       0.00      0.00      0.00       1.0\n",
      "      3435.13       0.00      0.00      0.00       1.0\n",
      "      3435.22       0.00      0.00      0.00       1.0\n",
      "     3521.1.4       0.00      0.00      0.00       0.0\n",
      "     3521.1.9       0.00      0.00      0.00       0.0\n",
      "       4131.1       0.00      0.00      0.00       0.0\n",
      "       4223.1       0.00      0.00      0.00       1.0\n",
      "       4229.2       0.00      0.00      0.00       1.0\n",
      "     4321.1.1       0.00      0.00      0.00       0.0\n",
      "      4323.19       0.00      0.00      0.00       0.0\n",
      "     5120.1.4       0.00      0.00      0.00       0.0\n",
      "       5164.2       0.00      0.00      0.00       1.0\n",
      "       5223.2       0.00      0.00      0.00       1.0\n",
      "    5223.7.11       0.00      0.00      0.00       1.0\n",
      "    5223.7.16       0.00      0.00      0.00       1.0\n",
      "    5223.7.21       0.00      0.00      0.00       1.0\n",
      "    5223.7.33       0.00      0.00      0.00       0.0\n",
      "     5223.7.6       0.00      0.00      0.00       0.0\n",
      "       5244.1       0.00      0.00      0.00       0.0\n",
      "     5411.1.1       0.00      0.00      0.00       0.0\n",
      "       6121.3       0.00      0.00      0.00       0.0\n",
      "       6129.1       0.00      0.00      0.00       1.0\n",
      "      6221.11       0.00      0.00      0.00       1.0\n",
      "       7115.2       0.00      0.00      0.00       1.0\n",
      "       7115.5       0.00      0.00      0.00       0.0\n",
      "       7119.1       0.00      0.00      0.00       0.0\n",
      "       7131.1       0.00      0.00      0.00       1.0\n",
      "     7211.1.1       0.00      0.00      0.00       1.0\n",
      "     7215.2.1       0.00      0.00      0.00       1.0\n",
      "     7215.2.3       0.00      0.00      0.00       1.0\n",
      "      7223.13       0.00      0.00      0.00       0.0\n",
      "       7223.2       0.00      0.00      0.00       1.0\n",
      "       7231.9       0.00      0.00      0.00       1.0\n",
      "      7233.14       0.00      0.00      0.00       0.0\n",
      "       7233.6       0.00      0.00      0.00       1.0\n",
      "       7311.1       0.00      0.00      0.00       0.0\n",
      "       7311.6       0.00      0.00      0.00       1.0\n",
      "     7316.1.1       0.00      0.00      0.00       0.0\n",
      "       7422.7       0.00      0.00      0.00       1.0\n",
      "       7512.4       0.00      0.00      0.00       1.0\n",
      "       7516.1       0.00      0.00      0.00       1.0\n",
      "     7536.2.6       0.00      0.00      0.00       1.0\n",
      "       7541.2       0.00      0.00      0.00       0.0\n",
      "    7543.10.3       0.00      0.00      0.00       1.0\n",
      "     7543.7.3       0.00      0.00      0.00       0.0\n",
      "     7543.7.4       0.00      0.00      0.00       1.0\n",
      "       7544.1       0.00      0.00      0.00       0.0\n",
      "       8114.6       0.00      0.00      0.00       0.0\n",
      "       8121.1       0.00      0.00      0.00       1.0\n",
      "      8122.12       0.00      0.00      0.00       1.0\n",
      "       8122.3       0.00      0.00      0.00       1.0\n",
      "       8122.8       0.00      0.00      0.00       0.0\n",
      "     8131.2.4       0.00      0.00      0.00       1.0\n",
      "      8131.22       0.00      0.00      0.00       1.0\n",
      "       8131.9       0.00      0.00      0.00       0.0\n",
      "     8151.2.2       0.00      0.00      0.00       0.0\n",
      "       8156.2       0.00      0.00      0.00       1.0\n",
      "     8156.2.4       0.00      0.00      0.00       0.0\n",
      "      8160.11       0.00      0.00      0.00       0.0\n",
      "      8160.22       0.00      0.00      0.00       0.0\n",
      "      8160.46       0.00      0.00      0.00       1.0\n",
      "      8160.49       0.00      0.00      0.00       0.0\n",
      "       8160.7       0.00      0.00      0.00       1.0\n",
      "     8172.5.3       0.00      0.00      0.00       1.0\n",
      "     8172.5.4       0.00      0.00      0.00       0.0\n",
      "       8183.2       0.00      0.00      0.00       0.0\n",
      "       8331.1       0.00      0.00      0.00       0.0\n",
      "       8332.5       0.00      0.00      0.00       1.0\n",
      "       8350.4       0.00      0.00      0.00       0.0\n",
      "       9112.5       0.00      0.00      0.00       1.0\n",
      "       9216.3       0.00      0.00      0.00       1.0\n",
      "       9629.4       0.00      0.00      0.00       1.0\n",
      "       9629.6       0.00      0.00      0.00       0.0\n",
      "\n",
      "     accuracy                           0.00     100.0\n",
      "    macro avg       0.00      0.00      0.00     100.0\n",
      " weighted avg       0.00      0.00      0.00     100.0\n",
      "\n"
     ]
    },
    {
     "name": "stderr",
     "output_type": "stream",
     "text": [
      "C:\\Users\\hp\\AppData\\Local\\Packages\\PythonSoftwareFoundation.Python.3.10_qbz5n2kfra8p0\\LocalCache\\local-packages\\Python310\\site-packages\\sklearn\\metrics\\_classification.py:1344: UndefinedMetricWarning: Precision and F-score are ill-defined and being set to 0.0 in labels with no predicted samples. Use `zero_division` parameter to control this behavior.\n",
      "  _warn_prf(average, modifier, msg_start, len(result))\n",
      "C:\\Users\\hp\\AppData\\Local\\Packages\\PythonSoftwareFoundation.Python.3.10_qbz5n2kfra8p0\\LocalCache\\local-packages\\Python310\\site-packages\\sklearn\\metrics\\_classification.py:1344: UndefinedMetricWarning: Recall and F-score are ill-defined and being set to 0.0 in labels with no true samples. Use `zero_division` parameter to control this behavior.\n",
      "  _warn_prf(average, modifier, msg_start, len(result))\n",
      "C:\\Users\\hp\\AppData\\Local\\Packages\\PythonSoftwareFoundation.Python.3.10_qbz5n2kfra8p0\\LocalCache\\local-packages\\Python310\\site-packages\\sklearn\\metrics\\_classification.py:1344: UndefinedMetricWarning: Precision and F-score are ill-defined and being set to 0.0 in labels with no predicted samples. Use `zero_division` parameter to control this behavior.\n",
      "  _warn_prf(average, modifier, msg_start, len(result))\n",
      "C:\\Users\\hp\\AppData\\Local\\Packages\\PythonSoftwareFoundation.Python.3.10_qbz5n2kfra8p0\\LocalCache\\local-packages\\Python310\\site-packages\\sklearn\\metrics\\_classification.py:1344: UndefinedMetricWarning: Recall and F-score are ill-defined and being set to 0.0 in labels with no true samples. Use `zero_division` parameter to control this behavior.\n",
      "  _warn_prf(average, modifier, msg_start, len(result))\n",
      "C:\\Users\\hp\\AppData\\Local\\Packages\\PythonSoftwareFoundation.Python.3.10_qbz5n2kfra8p0\\LocalCache\\local-packages\\Python310\\site-packages\\sklearn\\metrics\\_classification.py:1344: UndefinedMetricWarning: Precision and F-score are ill-defined and being set to 0.0 in labels with no predicted samples. Use `zero_division` parameter to control this behavior.\n",
      "  _warn_prf(average, modifier, msg_start, len(result))\n",
      "C:\\Users\\hp\\AppData\\Local\\Packages\\PythonSoftwareFoundation.Python.3.10_qbz5n2kfra8p0\\LocalCache\\local-packages\\Python310\\site-packages\\sklearn\\metrics\\_classification.py:1344: UndefinedMetricWarning: Recall and F-score are ill-defined and being set to 0.0 in labels with no true samples. Use `zero_division` parameter to control this behavior.\n",
      "  _warn_prf(average, modifier, msg_start, len(result))\n"
     ]
    }
   ],
   "source": [
    "y_pred = model.predict(X_test)\n",
    "\n",
    "# Get unique labels in y_test and y_pred\n",
    "unique_labels_in_pred = np.unique(y_pred)\n",
    "unique_labels_in_test = np.unique(y_test)\n",
    "\n",
    "# Combine the unique labels from both y_test and y_pred to cover all classes\n",
    "all_unique_labels = np.union1d(unique_labels_in_pred, unique_labels_in_test)\n",
    "\n",
    "# Get the class names corresponding to those labels\n",
    "# This ensures target_names corresponds to the labels that the model actually predicted\n",
    "target_names = le.inverse_transform(all_unique_labels)\n",
    "\n",
    "# Now print the classification report\n",
    "print(\"\\nClassification Report:\")\n",
    "print(classification_report(y_test, y_pred, target_names=target_names))"
   ]
  },
  {
   "cell_type": "markdown",
   "id": "ffe3e39e",
   "metadata": {},
   "source": [
    "# Predict and Display the Results"
   ]
  },
  {
   "cell_type": "code",
   "execution_count": 16,
   "id": "858f5f4e",
   "metadata": {},
   "outputs": [],
   "source": [
    "from IPython.display import Markdown, display\n",
    "\n",
    "def predict_and_display_poster(text):\n",
    "    # Generate embedding\n",
    "    features = embedder.encode([text])\n",
    "    predicted_label = model.predict(features)[0]\n",
    "    job_uri = le.inverse_transform([predicted_label])[0]\n",
    "    match = df[df['code'] == job_uri]\n",
    "\n",
    "    if not match.empty:\n",
    "        job_title = match['preferredLabel'].values[0].title()\n",
    "        definition = match['definition'].values[0] if pd.notna(match['definition'].values[0]) else \"No detailed definition available.\"\n",
    "    else:\n",
    "        job_title = \"Unknown\"\n",
    "        definition = \"No information found for this prediction.\"\n",
    "\n",
    "    poster = f\"\"\"\n",
    "# 🧠 Job Role Classifier\n",
    "---\n",
    "### 📝 Input Job Description\n",
    "> *{text.capitalize()}*\n",
    "---\n",
    "### 🎯 Predicted Role\n",
    "**{job_title}**\n",
    "---\n",
    "### 🔗 ESCO Code\n",
    "`{job_uri}`\n",
    "---\n",
    "### 📖 What Does This Role Do?\n",
    "{definition}\n",
    "---\n",
    "🔄 *Prediction generated using AI-powered ESCO classifier.*\n",
    "\n",
    "    \"\"\"\n",
    "    display(Markdown(poster))"
   ]
  },
  {
   "cell_type": "code",
   "execution_count": 17,
   "id": "b054850c",
   "metadata": {},
   "outputs": [
    {
     "data": {
      "text/markdown": [
       "\n",
       "# 🧠 Job Role Classifier\n",
       "---\n",
       "### 📝 Input Job Description\n",
       "> *Installs and maintains industrial cooling systems*\n",
       "---\n",
       "### 🎯 Predicted Role\n",
       "**Heating, Ventilation, Air Conditioning Engineer**\n",
       "---\n",
       "### 🔗 ESCO Code\n",
       "`2144.1.8`\n",
       "---\n",
       "### 📖 What Does This Role Do?\n",
       "No detailed definition available.\n",
       "---\n",
       "🔄 *Prediction generated using AI-powered ESCO classifier.*\n",
       "\n",
       "    "
      ],
      "text/plain": [
       "<IPython.core.display.Markdown object>"
      ]
     },
     "metadata": {},
     "output_type": "display_data"
    }
   ],
   "source": [
    "predict_and_display_poster(\"installs and maintains industrial cooling systems\")"
   ]
  }
 ],
 "metadata": {
  "kernelspec": {
   "display_name": "Python 3 (ipykernel)",
   "language": "python",
   "name": "python3"
  },
  "language_info": {
   "codemirror_mode": {
    "name": "ipython",
    "version": 3
   },
   "file_extension": ".py",
   "mimetype": "text/x-python",
   "name": "python",
   "nbconvert_exporter": "python",
   "pygments_lexer": "ipython3",
   "version": "3.10.11"
  }
 },
 "nbformat": 4,
 "nbformat_minor": 5
}
