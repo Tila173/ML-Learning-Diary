{
 "cells": [
  {
   "cell_type": "markdown",
   "id": "e4c03a01",
   "metadata": {},
   "source": [
    "# Data Discretization?\n",
    "Data discretization is the process of transforming continuous data or numerical features into discrete buckets or intervals.\n",
    "\n",
    "This is useful for:\n",
    "\n",
    "- Simplifying models (e.g., decision trees)\n",
    "- Handling non-linear relationships\n",
    "- Improving interpretability\n",
    "- Using algorithms that require categorical input"
   ]
  },
  {
   "cell_type": "markdown",
   "id": "c20d73e2",
   "metadata": {},
   "source": [
    "### 1. Binning (General Concept)\n",
    "Binning is the most basic form of discretization where continuous values are grouped into intervals (bins)."
   ]
  },
  {
   "cell_type": "markdown",
   "id": "3c0b0a65",
   "metadata": {},
   "source": [
    "**(Equal-width vs Equal-frequency)**"
   ]
  },
  {
   "cell_type": "code",
   "execution_count": 1,
   "id": "83fdf234",
   "metadata": {},
   "outputs": [
    {
     "name": "stdout",
     "output_type": "stream",
     "text": [
      "   Age      EqualWidth       EqualFreq\n",
      "0   22  (21.937, 43.0]  (21.999, 29.0]\n",
      "1   25  (21.937, 43.0]  (21.999, 29.0]\n",
      "2   27  (21.937, 43.0]  (21.999, 29.0]\n",
      "3   29  (21.937, 43.0]  (21.999, 29.0]\n",
      "4   35  (21.937, 43.0]    (29.0, 50.0]\n",
      "5   40  (21.937, 43.0]    (29.0, 50.0]\n",
      "6   50    (43.0, 64.0]    (29.0, 50.0]\n",
      "7   60    (43.0, 64.0]    (50.0, 85.0]\n",
      "8   70    (64.0, 85.0]    (50.0, 85.0]\n",
      "9   85    (64.0, 85.0]    (50.0, 85.0]\n"
     ]
    }
   ],
   "source": [
    "import pandas as pd\n",
    "\n",
    "# Example data\n",
    "data = pd.DataFrame({'Age': [22, 25, 27, 29, 35, 40, 50, 60, 70, 85]})\n",
    "\n",
    "# Equal-width binning (3 bins)\n",
    "data['EqualWidth'] = pd.cut(data['Age'], bins=3)\n",
    "\n",
    "# Equal-frequency binning (quantile-based)\n",
    "data['EqualFreq'] = pd.qcut(data['Age'], q=3)\n",
    "\n",
    "print(data)"
   ]
  },
  {
   "cell_type": "markdown",
   "id": "6f944c06",
   "metadata": {},
   "source": [
    "### 2. Quantile-based Binning\n",
    "Also known as equal-frequency binning. Instead of dividing by range, it divides so each bin contains an equal number of values."
   ]
  },
  {
   "cell_type": "code",
   "execution_count": 4,
   "id": "5eae0d65",
   "metadata": {},
   "outputs": [
    {
     "name": "stdout",
     "output_type": "stream",
     "text": [
      "   Age      EqualWidth       EqualFreq    Quantile_Bin\n",
      "0   22  (21.937, 43.0]  (21.999, 29.0]  (21.999, 27.5]\n",
      "1   25  (21.937, 43.0]  (21.999, 29.0]  (21.999, 27.5]\n",
      "2   27  (21.937, 43.0]  (21.999, 29.0]  (21.999, 27.5]\n",
      "3   29  (21.937, 43.0]  (21.999, 29.0]    (27.5, 37.5]\n",
      "4   35  (21.937, 43.0]    (29.0, 50.0]    (27.5, 37.5]\n",
      "5   40  (21.937, 43.0]    (29.0, 50.0]    (37.5, 57.5]\n",
      "6   50    (43.0, 64.0]    (29.0, 50.0]    (37.5, 57.5]\n",
      "7   60    (43.0, 64.0]    (50.0, 85.0]    (57.5, 85.0]\n",
      "8   70    (64.0, 85.0]    (50.0, 85.0]    (57.5, 85.0]\n",
      "9   85    (64.0, 85.0]    (50.0, 85.0]    (57.5, 85.0]\n"
     ]
    }
   ],
   "source": [
    "data['Quantile_Bin'] = pd.qcut(data['Age'], q=4)\n",
    "print(data)"
   ]
  },
  {
   "cell_type": "markdown",
   "id": "a6449a58",
   "metadata": {},
   "source": [
    "### 3. Domain-Driven Grouping (Semantic Binning)\n",
    "Discretization based on domain expertise or business rules.\n",
    "These are not statistical, but manually defined."
   ]
  },
  {
   "cell_type": "code",
   "execution_count": 5,
   "id": "9b8685e9",
   "metadata": {},
   "outputs": [],
   "source": [
    "bins = [0, 12, 19, 59, 100]\n",
    "labels = ['Child', 'Teen', 'Adult', 'Senior']\n",
    "data['Domain_Group'] = pd.cut(data['Age'], bins=bins, labels=labels)"
   ]
  },
  {
   "cell_type": "code",
   "execution_count": 6,
   "id": "623c3ad5",
   "metadata": {},
   "outputs": [
    {
     "name": "stdout",
     "output_type": "stream",
     "text": [
      "   Age      EqualWidth       EqualFreq    Quantile_Bin Domain_Group\n",
      "0   22  (21.937, 43.0]  (21.999, 29.0]  (21.999, 27.5]        Adult\n",
      "1   25  (21.937, 43.0]  (21.999, 29.0]  (21.999, 27.5]        Adult\n",
      "2   27  (21.937, 43.0]  (21.999, 29.0]  (21.999, 27.5]        Adult\n",
      "3   29  (21.937, 43.0]  (21.999, 29.0]    (27.5, 37.5]        Adult\n",
      "4   35  (21.937, 43.0]    (29.0, 50.0]    (27.5, 37.5]        Adult\n",
      "5   40  (21.937, 43.0]    (29.0, 50.0]    (37.5, 57.5]        Adult\n",
      "6   50    (43.0, 64.0]    (29.0, 50.0]    (37.5, 57.5]        Adult\n",
      "7   60    (43.0, 64.0]    (50.0, 85.0]    (57.5, 85.0]       Senior\n",
      "8   70    (64.0, 85.0]    (50.0, 85.0]    (57.5, 85.0]       Senior\n",
      "9   85    (64.0, 85.0]    (50.0, 85.0]    (57.5, 85.0]       Senior\n"
     ]
    }
   ],
   "source": [
    "print(data)"
   ]
  },
  {
   "cell_type": "markdown",
   "id": "d141a5b1",
   "metadata": {},
   "source": [
    "### 4. Concept Hierarchies\n",
    "This is more advanced: it groups data into levels of abstraction, often used in OLAP, data cubes, and knowledge discovery."
   ]
  },
  {
   "cell_type": "code",
   "execution_count": 7,
   "id": "98520ecb",
   "metadata": {},
   "outputs": [],
   "source": [
    "# Using fixed dates and extracting hierarchy levels\n",
    "data['Sample_Date'] = pd.date_range(start='2023-01-01', periods=len(data), freq='M')\n",
    "data['Month'] = data['Sample_Date'].dt.month\n",
    "data['Quarter'] = data['Sample_Date'].dt.quarter\n",
    "data['Year'] = data['Sample_Date'].dt.year"
   ]
  },
  {
   "cell_type": "code",
   "execution_count": 9,
   "id": "36df0932",
   "metadata": {},
   "outputs": [
    {
     "name": "stdout",
     "output_type": "stream",
     "text": [
      "   Age      EqualWidth    Quantile_Bin Domain_Group  Month  Quarter  Year\n",
      "0   22  (21.937, 43.0]  (21.999, 27.5]        Adult      1        1  2023\n",
      "1   25  (21.937, 43.0]  (21.999, 27.5]        Adult      2        1  2023\n",
      "2   27  (21.937, 43.0]  (21.999, 27.5]        Adult      3        1  2023\n",
      "3   29  (21.937, 43.0]    (27.5, 37.5]        Adult      4        2  2023\n",
      "4   35  (21.937, 43.0]    (27.5, 37.5]        Adult      5        2  2023\n",
      "5   40  (21.937, 43.0]    (37.5, 57.5]        Adult      6        2  2023\n",
      "6   50    (43.0, 64.0]    (37.5, 57.5]        Adult      7        3  2023\n",
      "7   60    (43.0, 64.0]    (57.5, 85.0]       Senior      8        3  2023\n",
      "8   70    (64.0, 85.0]    (57.5, 85.0]       Senior      9        3  2023\n",
      "9   85    (64.0, 85.0]    (57.5, 85.0]       Senior     10        4  2023\n"
     ]
    }
   ],
   "source": [
    "print(data[['Age', 'EqualWidth', 'Quantile_Bin', 'Domain_Group', 'Month', 'Quarter', 'Year']])"
   ]
  }
 ],
 "metadata": {
  "kernelspec": {
   "display_name": "Python 3 (ipykernel)",
   "language": "python",
   "name": "python3"
  },
  "language_info": {
   "codemirror_mode": {
    "name": "ipython",
    "version": 3
   },
   "file_extension": ".py",
   "mimetype": "text/x-python",
   "name": "python",
   "nbconvert_exporter": "python",
   "pygments_lexer": "ipython3",
   "version": "3.10.11"
  }
 },
 "nbformat": 4,
 "nbformat_minor": 5
}
