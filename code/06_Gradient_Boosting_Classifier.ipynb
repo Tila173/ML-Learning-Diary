{
 "cells": [
  {
   "cell_type": "markdown",
   "id": "d6a35298",
   "metadata": {},
   "source": [
    "## What is Gradient Boosting?\n",
    "\n",
    "- Gradient Boosting is a supervised machine learning algorithm used for both classification and regression problems. It's an ensemble method that builds models sequentially, with each new model trying to correct the errors made by the previous ones.\n",
    "- It belongs to the family of boosting algorithms, where models are combined to create a strong predictor from many weak learners (typically decision trees)."
   ]
  },
  {
   "cell_type": "markdown",
   "id": "fbe5e675",
   "metadata": {},
   "source": [
    "### How Does Gradient Boosting Work?\n",
    "\n",
    "Let’s break it down step-by-step:\n",
    "\n",
    "**Start with an initial model:**\n",
    "\n",
    "- Usually a simple prediction, like the mean (for regression) or log-odds (for classification).\n",
    "\n",
    "**Compute residuals/errors:**\n",
    "\n",
    "- Calculate how far off the predictions are (the difference between predicted and actual values).\n",
    "\n",
    "**Train a new model on these residuals:**\n",
    "\n",
    "- This new model tries to predict the error made by the previous model.\n",
    "\n",
    "**Update the prediction:**\n",
    "\n",
    "- Add the new model's prediction (scaled by a learning rate) to the existing model’s prediction.\n",
    "\n",
    "**Repeat:**\n",
    "\n",
    "- Keep training new models on the residuals of the combined prediction so far.\n",
    "\n",
    "**Final prediction:**\n",
    "\n",
    "- The sum of the predictions from all the individual models. "
   ]
  },
  {
   "cell_type": "markdown",
   "id": "9d60a48c",
   "metadata": {},
   "source": [
    "### Advantages of Gradient Boosting\n",
    "**High Accuracy:** One of the most accurate methods in supervised learning.\n",
    "\n",
    "- Works well with both numerical and categorical features.\n",
    "\n",
    "- Robust to outliers (with appropriate loss functions like Huber).\n",
    "\n",
    "**Flexibility:** Can be used with different loss functions.\n",
    "\n",
    "**Feature importance:** Provides insight into which features are important."
   ]
  },
  {
   "cell_type": "markdown",
   "id": "08a09b9e",
   "metadata": {},
   "source": [
    "# Mental Health Risk Prediction in Students"
   ]
  },
  {
   "cell_type": "code",
   "execution_count": 24,
   "id": "e579e94e",
   "metadata": {},
   "outputs": [],
   "source": [
    "import numpy as np\n",
    "import pandas as pd\n",
    "from sklearn.ensemble import GradientBoostingClassifier\n",
    "from sklearn.model_selection import train_test_split\n",
    "from sklearn.metrics import classification_report, confusion_matrix, accuracy_score, precision_score, recall_score, f1_score\n",
    "import seaborn as sns\n",
    "import matplotlib.pyplot as plt"
   ]
  },
  {
   "cell_type": "code",
   "execution_count": 25,
   "id": "527c3af6",
   "metadata": {},
   "outputs": [],
   "source": [
    "# 1. Simulate dataset\n",
    "np.random.seed(42)\n",
    "n_samples = 500"
   ]
  },
  {
   "cell_type": "code",
   "execution_count": 26,
   "id": "ab37344f",
   "metadata": {},
   "outputs": [],
   "source": [
    "# Features\n",
    "sleep_hours = np.random.normal(6.5, 1.5, n_samples)            # avg sleep in hours\n",
    "screen_time = np.random.normal(6, 2, n_samples)                # avg daily screen time\n",
    "attendance = np.random.uniform(50, 100, n_samples)             # attendance %\n",
    "social_score = np.random.uniform(1, 10, n_samples)             # social engagement\n",
    "stress = np.random.normal(6, 2, n_samples)                     # stress level (1-10)\n",
    "gpa = np.random.normal(2.8, 0.6, n_samples)                    # GPA"
   ]
  },
  {
   "cell_type": "code",
   "execution_count": 27,
   "id": "36b910bc",
   "metadata": {},
   "outputs": [],
   "source": [
    "# Target variable: Mental health risk (1 = At Risk, 0 = Not at Risk)\n",
    "risk = ((sleep_hours < 6) & (stress > 6) & (gpa < 2.5)).astype(int)"
   ]
  },
  {
   "cell_type": "code",
   "execution_count": 28,
   "id": "f2b8d05f",
   "metadata": {},
   "outputs": [],
   "source": [
    "# Combine into DataFrame\n",
    "df = pd.DataFrame({\n",
    "    \"SleepHours\": sleep_hours,\n",
    "    \"ScreenTime\": screen_time,\n",
    "    \"Attendance\": attendance,\n",
    "    \"SocialScore\": social_score,\n",
    "    \"StressLevel\": stress,\n",
    "    \"GPA\": gpa,\n",
    "    \"AtRisk\": risk\n",
    "})"
   ]
  },
  {
   "cell_type": "code",
   "execution_count": 29,
   "id": "d2fa7855",
   "metadata": {},
   "outputs": [],
   "source": [
    "# 2. Feature matrix and target\n",
    "X = df.drop(\"AtRisk\", axis=1)\n",
    "y = df[\"AtRisk\"]"
   ]
  },
  {
   "cell_type": "code",
   "execution_count": 30,
   "id": "16bc7dbb",
   "metadata": {},
   "outputs": [],
   "source": [
    "# 3. Train-test split\n",
    "X_train, X_test, y_train, y_test = train_test_split(X, y, test_size=0.2, random_state=42)"
   ]
  },
  {
   "cell_type": "code",
   "execution_count": 31,
   "id": "cb888587",
   "metadata": {},
   "outputs": [
    {
     "data": {
      "text/html": [
       "<style>#sk-container-id-1 {color: black;background-color: white;}#sk-container-id-1 pre{padding: 0;}#sk-container-id-1 div.sk-toggleable {background-color: white;}#sk-container-id-1 label.sk-toggleable__label {cursor: pointer;display: block;width: 100%;margin-bottom: 0;padding: 0.3em;box-sizing: border-box;text-align: center;}#sk-container-id-1 label.sk-toggleable__label-arrow:before {content: \"▸\";float: left;margin-right: 0.25em;color: #696969;}#sk-container-id-1 label.sk-toggleable__label-arrow:hover:before {color: black;}#sk-container-id-1 div.sk-estimator:hover label.sk-toggleable__label-arrow:before {color: black;}#sk-container-id-1 div.sk-toggleable__content {max-height: 0;max-width: 0;overflow: hidden;text-align: left;background-color: #f0f8ff;}#sk-container-id-1 div.sk-toggleable__content pre {margin: 0.2em;color: black;border-radius: 0.25em;background-color: #f0f8ff;}#sk-container-id-1 input.sk-toggleable__control:checked~div.sk-toggleable__content {max-height: 200px;max-width: 100%;overflow: auto;}#sk-container-id-1 input.sk-toggleable__control:checked~label.sk-toggleable__label-arrow:before {content: \"▾\";}#sk-container-id-1 div.sk-estimator input.sk-toggleable__control:checked~label.sk-toggleable__label {background-color: #d4ebff;}#sk-container-id-1 div.sk-label input.sk-toggleable__control:checked~label.sk-toggleable__label {background-color: #d4ebff;}#sk-container-id-1 input.sk-hidden--visually {border: 0;clip: rect(1px 1px 1px 1px);clip: rect(1px, 1px, 1px, 1px);height: 1px;margin: -1px;overflow: hidden;padding: 0;position: absolute;width: 1px;}#sk-container-id-1 div.sk-estimator {font-family: monospace;background-color: #f0f8ff;border: 1px dotted black;border-radius: 0.25em;box-sizing: border-box;margin-bottom: 0.5em;}#sk-container-id-1 div.sk-estimator:hover {background-color: #d4ebff;}#sk-container-id-1 div.sk-parallel-item::after {content: \"\";width: 100%;border-bottom: 1px solid gray;flex-grow: 1;}#sk-container-id-1 div.sk-label:hover label.sk-toggleable__label {background-color: #d4ebff;}#sk-container-id-1 div.sk-serial::before {content: \"\";position: absolute;border-left: 1px solid gray;box-sizing: border-box;top: 0;bottom: 0;left: 50%;z-index: 0;}#sk-container-id-1 div.sk-serial {display: flex;flex-direction: column;align-items: center;background-color: white;padding-right: 0.2em;padding-left: 0.2em;position: relative;}#sk-container-id-1 div.sk-item {position: relative;z-index: 1;}#sk-container-id-1 div.sk-parallel {display: flex;align-items: stretch;justify-content: center;background-color: white;position: relative;}#sk-container-id-1 div.sk-item::before, #sk-container-id-1 div.sk-parallel-item::before {content: \"\";position: absolute;border-left: 1px solid gray;box-sizing: border-box;top: 0;bottom: 0;left: 50%;z-index: -1;}#sk-container-id-1 div.sk-parallel-item {display: flex;flex-direction: column;z-index: 1;position: relative;background-color: white;}#sk-container-id-1 div.sk-parallel-item:first-child::after {align-self: flex-end;width: 50%;}#sk-container-id-1 div.sk-parallel-item:last-child::after {align-self: flex-start;width: 50%;}#sk-container-id-1 div.sk-parallel-item:only-child::after {width: 0;}#sk-container-id-1 div.sk-dashed-wrapped {border: 1px dashed gray;margin: 0 0.4em 0.5em 0.4em;box-sizing: border-box;padding-bottom: 0.4em;background-color: white;}#sk-container-id-1 div.sk-label label {font-family: monospace;font-weight: bold;display: inline-block;line-height: 1.2em;}#sk-container-id-1 div.sk-label-container {text-align: center;}#sk-container-id-1 div.sk-container {/* jupyter's `normalize.less` sets `[hidden] { display: none; }` but bootstrap.min.css set `[hidden] { display: none !important; }` so we also need the `!important` here to be able to override the default hidden behavior on the sphinx rendered scikit-learn.org. See: https://github.com/scikit-learn/scikit-learn/issues/21755 */display: inline-block !important;position: relative;}#sk-container-id-1 div.sk-text-repr-fallback {display: none;}</style><div id=\"sk-container-id-1\" class=\"sk-top-container\"><div class=\"sk-text-repr-fallback\"><pre>GradientBoostingClassifier(random_state=42)</pre><b>In a Jupyter environment, please rerun this cell to show the HTML representation or trust the notebook. <br />On GitHub, the HTML representation is unable to render, please try loading this page with nbviewer.org.</b></div><div class=\"sk-container\" hidden><div class=\"sk-item\"><div class=\"sk-estimator sk-toggleable\"><input class=\"sk-toggleable__control sk-hidden--visually\" id=\"sk-estimator-id-1\" type=\"checkbox\" checked><label for=\"sk-estimator-id-1\" class=\"sk-toggleable__label sk-toggleable__label-arrow\">GradientBoostingClassifier</label><div class=\"sk-toggleable__content\"><pre>GradientBoostingClassifier(random_state=42)</pre></div></div></div></div></div>"
      ],
      "text/plain": [
       "GradientBoostingClassifier(random_state=42)"
      ]
     },
     "execution_count": 31,
     "metadata": {},
     "output_type": "execute_result"
    }
   ],
   "source": [
    "# 4. Gradient Boosting Classifier\n",
    "model = GradientBoostingClassifier(n_estimators=100, learning_rate=0.1, max_depth=3, random_state=42)\n",
    "model.fit(X_train, y_train)"
   ]
  },
  {
   "cell_type": "code",
   "execution_count": 32,
   "id": "97080f3a",
   "metadata": {},
   "outputs": [],
   "source": [
    "# 5. Predictions\n",
    "y_pred = model.predict(X_test)"
   ]
  },
  {
   "cell_type": "code",
   "execution_count": 33,
   "id": "8c5bdac8",
   "metadata": {},
   "outputs": [],
   "source": [
    "# 6. Evaluation\n",
    "acc = accuracy_score(y_test, y_pred)\n",
    "prec = precision_score(y_test, y_pred)\n",
    "rec = recall_score(y_test, y_pred)\n",
    "f1 = f1_score(y_test, y_pred)"
   ]
  },
  {
   "cell_type": "code",
   "execution_count": 34,
   "id": "976bddb2",
   "metadata": {},
   "outputs": [
    {
     "name": "stdout",
     "output_type": "stream",
     "text": [
      "Accuracy:  1.00\n",
      "Precision: 1.00\n",
      "Recall:    1.00\n",
      "F1 Score:  1.00\n",
      "\n",
      "Classification Report:\n",
      "               precision    recall  f1-score   support\n",
      "\n",
      "           0       1.00      1.00      1.00        97\n",
      "           1       1.00      1.00      1.00         3\n",
      "\n",
      "    accuracy                           1.00       100\n",
      "   macro avg       1.00      1.00      1.00       100\n",
      "weighted avg       1.00      1.00      1.00       100\n",
      "\n",
      "Confusion Matrix:\n",
      " [[97  0]\n",
      " [ 0  3]]\n"
     ]
    }
   ],
   "source": [
    "print(f\"Accuracy:  {acc:.2f}\")\n",
    "print(f\"Precision: {prec:.2f}\")\n",
    "print(f\"Recall:    {rec:.2f}\")\n",
    "print(f\"F1 Score:  {f1:.2f}\\n\")\n",
    "\n",
    "print(\"Classification Report:\\n\", classification_report(y_test, y_pred))\n",
    "print(\"Confusion Matrix:\\n\", confusion_matrix(y_test, y_pred))"
   ]
  },
  {
   "cell_type": "code",
   "execution_count": 35,
   "id": "9deeac12",
   "metadata": {},
   "outputs": [
    {
     "data": {
      "image/png": "[encoded data removed]",
      "text/plain": [
       "<Figure size 640x480 with 2 Axes>"
      ]
     },
     "metadata": {},
     "output_type": "display_data"
    }
   ],
   "source": [
    "# 7. Confusion matrix heatmap\n",
    "sns.heatmap(confusion_matrix(y_test, y_pred), annot=True, fmt='d', cmap='Blues')\n",
    "plt.xlabel(\"Predicted\")\n",
    "plt.ylabel(\"Actual\")\n",
    "plt.title(\"Confusion Matrix - Mental Health Risk\")\n",
    "plt.show()"
   ]
  }
 ],
 "metadata": {
  "kernelspec": {
   "display_name": "Python 3 (ipykernel)",
   "language": "python",
   "name": "python3"
  },
  "language_info": {
   "codemirror_mode": {
    "name": "ipython",
    "version": 3
   },
   "file_extension": ".py",
   "mimetype": "text/x-python",
   "name": "python",
   "nbconvert_exporter": "python",
   "pygments_lexer": "ipython3",
   "version": "3.10.11"
  }
 },
 "nbformat": 4,
 "nbformat_minor": 5
}
